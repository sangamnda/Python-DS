{
 "cells": [
  {
   "cell_type": "markdown",
   "id": "c80df471",
   "metadata": {},
   "source": [
    "String Opration"
   ]
  },
  {
   "cell_type": "code",
   "execution_count": 2,
   "id": "f86e0232",
   "metadata": {},
   "outputs": [
    {
     "name": "stdout",
     "output_type": "stream",
     "text": [
      "Hello world\n"
     ]
    }
   ],
   "source": [
    "# string concatenation\n",
    "str1 = \"Hello\"\n",
    "str2 = \"world\"\n",
    "str3 = str1 + \" \" + str2\n",
    "print(str3)\n"
   ]
  },
  {
   "cell_type": "code",
   "execution_count": 6,
   "id": "00534519",
   "metadata": {},
   "outputs": [
    {
     "name": "stdout",
     "output_type": "stream",
     "text": [
      "HelloHelloHello\n"
     ]
    }
   ],
   "source": [
    "# string duplication\n",
    "word = \"Hello\"\n",
    "print(word * 3)"
   ]
  },
  {
   "cell_type": "markdown",
   "id": "75e79c50",
   "metadata": {},
   "source": [
    "String Method"
   ]
  },
  {
   "cell_type": "code",
   "execution_count": 14,
   "id": "666788fc",
   "metadata": {},
   "outputs": [
    {
     "data": {
      "text/plain": [
       "'MY NAME IS SULAIMAN SAYEED'"
      ]
     },
     "execution_count": 14,
     "metadata": {},
     "output_type": "execute_result"
    }
   ],
   "source": [
    "# Upper method\n",
    "x = \"my name is sulaiman sayeed\"\n",
    "x.upper()"
   ]
  },
  {
   "cell_type": "code",
   "execution_count": 9,
   "id": "991a768a",
   "metadata": {},
   "outputs": [
    {
     "data": {
      "text/plain": [
       "'my name is sulaiman sayeed'"
      ]
     },
     "execution_count": 9,
     "metadata": {},
     "output_type": "execute_result"
    }
   ],
   "source": [
    "# lower method\n",
    "x.lower()"
   ]
  },
  {
   "cell_type": "code",
   "execution_count": 11,
   "id": "3fec5741",
   "metadata": {},
   "outputs": [
    {
     "data": {
      "text/plain": [
       "'My name is sulaiman sayeed'"
      ]
     },
     "execution_count": 11,
     "metadata": {},
     "output_type": "execute_result"
    }
   ],
   "source": [
    "# first letter capital\n",
    "x.capitalize()"
   ]
  },
  {
   "cell_type": "code",
   "execution_count": 12,
   "id": "f75f9152",
   "metadata": {},
   "outputs": [
    {
     "data": {
      "text/plain": [
       "['You', 'are', 'fool']"
      ]
     },
     "execution_count": 12,
     "metadata": {},
     "output_type": "execute_result"
    }
   ],
   "source": [
    "# split method\n",
    "a = \"You are fool\"\n",
    "a.split()"
   ]
  },
  {
   "cell_type": "code",
   "execution_count": 2,
   "id": "ecf77001",
   "metadata": {},
   "outputs": [
    {
     "name": "stdout",
     "output_type": "stream",
     "text": [
      "jhony jhony yes papa\n",
      "eating sugar no papa\n",
      "telling lie no papa\n",
      "open your mouth hahahaha\n"
     ]
    }
   ],
   "source": [
    "poem = \"\"\"jhony jhony yes papa\n",
    "eating sugar no papa\n",
    "telling lie no papa\n",
    "open your mouth hahahaha\"\"\"\n",
    "print(poem)"
   ]
  },
  {
   "cell_type": "code",
   "execution_count": 17,
   "id": "ca8f264f",
   "metadata": {},
   "outputs": [
    {
     "data": {
      "text/plain": [
       "['jhony jhony yes papa',\n",
       " 'eating sugar no papa',\n",
       " 'telling lie no papa',\n",
       " 'open your mouth hahahaha']"
      ]
     },
     "execution_count": 17,
     "metadata": {},
     "output_type": "execute_result"
    }
   ],
   "source": [
    "poem.splitlines()"
   ]
  },
  {
   "cell_type": "code",
   "execution_count": 18,
   "id": "6240d694",
   "metadata": {},
   "outputs": [
    {
     "name": "stdout",
     "output_type": "stream",
     "text": [
      "jhony jhony yes fufa\n",
      "eating sugar no fufa\n",
      "telling lie no fufa\n",
      "open your mouth hahahaha\n"
     ]
    }
   ],
   "source": [
    "# replacemnet method\n",
    "p = poem.replace('papa', 'fufa')\n",
    "print(p)"
   ]
  },
  {
   "cell_type": "code",
   "execution_count": 22,
   "id": "532446fe",
   "metadata": {},
   "outputs": [
    {
     "name": "stdout",
     "output_type": "stream",
     "text": [
      "jhony jhony yes mama\n",
      "eating chini no mama\n",
      "telling lie no mama\n",
      "open your mouth nanana\n"
     ]
    }
   ],
   "source": [
    "# multiple words replacement\n",
    "mp = poem.replace(\"papa\", \"mama\").replace(\"sugar\", \"chini\").replace(\"hahahaha\", \"nanana\")\n",
    "print(mp)"
   ]
  },
  {
   "cell_type": "code",
   "execution_count": 20,
   "id": "c49ba7ed",
   "metadata": {},
   "outputs": [
    {
     "data": {
      "text/plain": [
       "28"
      ]
     },
     "execution_count": 20,
     "metadata": {},
     "output_type": "execute_result"
    }
   ],
   "source": [
    "# find index of a word\n",
    "p.find(\"sugar\")"
   ]
  },
  {
   "cell_type": "code",
   "execution_count": 24,
   "id": "93f78775",
   "metadata": {},
   "outputs": [
    {
     "data": {
      "text/plain": [
       "42"
      ]
     },
     "execution_count": 24,
     "metadata": {},
     "output_type": "execute_result"
    }
   ],
   "source": [
    "p.find(\"telling\")"
   ]
  },
  {
   "cell_type": "code",
   "execution_count": 3,
   "id": "06d17af8",
   "metadata": {},
   "outputs": [
    {
     "data": {
      "text/plain": [
       "12"
      ]
     },
     "execution_count": 3,
     "metadata": {},
     "output_type": "execute_result"
    }
   ],
   "source": [
    "poem.find(\"yes\")"
   ]
  },
  {
   "cell_type": "code",
   "execution_count": 26,
   "id": "0db9f01c",
   "metadata": {},
   "outputs": [
    {
     "name": "stdout",
     "output_type": "stream",
     "text": [
      "jhony jhony yes fufa\n",
      "eating sugar no fufa\n",
      "telling lie no fufa\n",
      "open your mouth hahahaha\n"
     ]
    }
   ],
   "source": [
    "p.split()\n",
    "print(p)"
   ]
  },
  {
   "cell_type": "code",
   "execution_count": 27,
   "id": "b71501f1",
   "metadata": {},
   "outputs": [
    {
     "data": {
      "text/plain": [
       "['jhony',\n",
       " 'jhony',\n",
       " 'yes',\n",
       " 'fufa',\n",
       " 'eating',\n",
       " 'sugar',\n",
       " 'no',\n",
       " 'fufa',\n",
       " 'telling',\n",
       " 'lie',\n",
       " 'no',\n",
       " 'fufa',\n",
       " 'open',\n",
       " 'your',\n",
       " 'mouth',\n",
       " 'hahahaha']"
      ]
     },
     "execution_count": 27,
     "metadata": {},
     "output_type": "execute_result"
    }
   ],
   "source": [
    "p.split()"
   ]
  },
  {
   "cell_type": "code",
   "execution_count": 28,
   "id": "1ed0f5c3",
   "metadata": {},
   "outputs": [
    {
     "data": {
      "text/plain": [
       "'C/users/Desktop/python'"
      ]
     },
     "execution_count": 28,
     "metadata": {},
     "output_type": "execute_result"
    }
   ],
   "source": [
    "# join method\n",
    "path = [\"C\", \"users\", \"Desktop\", \"python\"]\n",
    "(\"/\".join(path))"
   ]
  },
  {
   "cell_type": "code",
   "execution_count": 30,
   "id": "96d05a18",
   "metadata": {},
   "outputs": [
    {
     "data": {
      "text/plain": [
       "'C@ users@ Desktop@ python'"
      ]
     },
     "execution_count": 30,
     "metadata": {},
     "output_type": "execute_result"
    }
   ],
   "source": [
    "# join method\n",
    "path = [\"C\", \"users\", \"Desktop\", \"python\"]\n",
    "(\"@ \".join(path))"
   ]
  },
  {
   "cell_type": "code",
   "execution_count": 31,
   "id": "7d01adda",
   "metadata": {},
   "outputs": [
    {
     "data": {
      "text/plain": [
       "'C & users & Desktop & python'"
      ]
     },
     "execution_count": 31,
     "metadata": {},
     "output_type": "execute_result"
    }
   ],
   "source": [
    "# join method\n",
    "path = [\"C\", \"users\", \"Desktop\", \"python\"]\n",
    "(\" & \".join(path))"
   ]
  },
  {
   "cell_type": "code",
   "execution_count": 4,
   "id": "eeb3d7ad",
   "metadata": {},
   "outputs": [
    {
     "data": {
      "text/plain": [
       "50"
      ]
     },
     "execution_count": 4,
     "metadata": {},
     "output_type": "execute_result"
    }
   ],
   "source": [
    "poem.find(\"lie\")"
   ]
  },
  {
   "cell_type": "code",
   "execution_count": null,
   "id": "dbd2b764",
   "metadata": {},
   "outputs": [
    {
     "ename": "SyntaxError",
     "evalue": "invalid syntax (177116824.py, line 1)",
     "output_type": "error",
     "traceback": [
      "  \u001b[36mCell\u001b[39m\u001b[36m \u001b[39m\u001b[32mIn[5]\u001b[39m\u001b[32m, line 1\u001b[39m\n\u001b[31m    \u001b[39m\u001b[31mlie in poem:\u001b[39m\n               ^\n\u001b[31mSyntaxError\u001b[39m\u001b[31m:\u001b[39m invalid syntax\n"
     ]
    }
   ],
   "source": []
  }
 ],
 "metadata": {
  "kernelspec": {
   "display_name": "base",
   "language": "python",
   "name": "python3"
  },
  "language_info": {
   "codemirror_mode": {
    "name": "ipython",
    "version": 3
   },
   "file_extension": ".py",
   "mimetype": "text/x-python",
   "name": "python",
   "nbconvert_exporter": "python",
   "pygments_lexer": "ipython3",
   "version": "3.13.2"
  }
 },
 "nbformat": 4,
 "nbformat_minor": 5
}
