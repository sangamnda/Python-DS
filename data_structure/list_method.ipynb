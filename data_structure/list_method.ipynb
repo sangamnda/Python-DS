{
 "cells": [
  {
   "cell_type": "markdown",
   "id": "5a7e0cce",
   "metadata": {},
   "source": [
    "## List method"
   ]
  },
  {
   "cell_type": "code",
   "execution_count": null,
   "id": "e0e6495f",
   "metadata": {},
   "outputs": [],
   "source": [
    "# append() - to add item at the end of the list\n",
    "# insert() - to add item at any soecific position in the list\n",
    "# pop() - to delete item using index position\n",
    "# remove() - to delete items using item name\n",
    "# copy() - to make a duplicate of the list\n",
    "# sort() - to sort the list in a perticuler order\n",
    "# extend() - to combine two list into a single list\n",
    "# clear() - to delete all the items from the list but not he list"
   ]
  },
  {
   "cell_type": "code",
   "execution_count": 4,
   "id": "830d18c9",
   "metadata": {},
   "outputs": [
    {
     "name": "stdout",
     "output_type": "stream",
     "text": [
      "['play store', 'youtube', 'whatsapp', 'swiggy', 'zomato', 'maps', 'gmail', 'chrome', 'calculator', 'calendar', 'ganes', 'irctc', 'amazon', 'flipkart', 'ajio', 'myntra', 'blinkit', 'facebook']\n"
     ]
    }
   ],
   "source": [
    "# to add the item at the end of the list\n",
    "# append()\n",
    "apps = [\"play store\", \"youtube\", \"whatsapp\", \"swiggy\", \"zomato\", \"maps\", \"gmail\", \"chrome\", \"calculator\", \"calendar\", \"ganes\", \"irctc\", \"amazon\", \"flipkart\", \"ajio\",\"myntra\", \"blinkit\"]\n",
    "apps.append(\"facebook\")\n",
    "print(apps)"
   ]
  },
  {
   "cell_type": "code",
   "execution_count": 5,
   "id": "da5aa0f4",
   "metadata": {},
   "outputs": [
    {
     "name": "stdout",
     "output_type": "stream",
     "text": [
      "['play store', 'youtube', 'whatsapp', 'swiggy', 'chime', 'zomato', 'maps', 'gmail', 'chrome', 'calculator', 'calendar', 'ganes', 'irctc', 'amazon', 'flipkart', 'ajio', 'myntra', 'blinkit', 'facebook']\n"
     ]
    }
   ],
   "source": [
    "apps.insert(4, \"chime\")\n",
    "print(apps)"
   ]
  },
  {
   "cell_type": "code",
   "execution_count": null,
   "id": "14da4211",
   "metadata": {},
   "outputs": [
    {
     "name": "stdout",
     "output_type": "stream",
     "text": [
      "['play store', 'youtube', 'whatsapp', 'swiggy', 'chime', 'zomato', 'maps', 'gmail', 'chrome', 'calculator', 'calendar', 'ganes', 'irctc', 'amazon', 'flipkart', 'ajio', 'myntra', 'blinkit']\n"
     ]
    }
   ],
   "source": [
    "# Remove\n",
    "apps.remove(\"facebook\")\n",
    "print(apps)"
   ]
  },
  {
   "cell_type": "code",
   "execution_count": 4,
   "id": "7b29cbbe",
   "metadata": {},
   "outputs": [
    {
     "name": "stdout",
     "output_type": "stream",
     "text": [
      "['play store', 'youtube', 'whatsapp', 'swiggy', 'netflix', 'zomato', 'maps', 'gmail', 'chrome', 'calculator', 'calendar', 'ganes', 'irctc', 'amazon', 'flipkart', 'ajio', 'myntra', 'blinkit']\n"
     ]
    }
   ],
   "source": [
    "# insert\n",
    "apps = [\"play store\", \"youtube\", \"whatsapp\", \"swiggy\", \"zomato\", \"maps\", \"gmail\", \"chrome\", \"calculator\", \"calendar\", \"ganes\", \"irctc\", \"amazon\", \"flipkart\", \"ajio\",\"myntra\", \"blinkit\"]\n",
    "apps.insert(4,\"netflix\")\n",
    "print(apps)"
   ]
  },
  {
   "cell_type": "code",
   "execution_count": 4,
   "id": "48de4e98",
   "metadata": {},
   "outputs": [
    {
     "name": "stdout",
     "output_type": "stream",
     "text": [
      "['play store', 'youtube', 'whatsapp', 'swiggy', 'maps', 'gmail', 'chrome', 'calculator', 'calendar', 'ganes', 'irctc', 'amazon', 'flipkart', 'ajio', 'myntra', 'blinkit']\n"
     ]
    }
   ],
   "source": [
    "# Pop\n",
    "apps = [\"play store\", \"youtube\", \"whatsapp\", \"swiggy\", \"zomato\", \"maps\", \"gmail\", \"chrome\", \"calculator\", \"calendar\", \"ganes\", \"irctc\", \"amazon\", \"flipkart\", \"ajio\",\"myntra\", \"blinkit\"]\n",
    "apps.pop(4)\n",
    "print(apps)"
   ]
  },
  {
   "cell_type": "code",
   "execution_count": 2,
   "id": "7cd6c3e2",
   "metadata": {},
   "outputs": [
    {
     "name": "stdout",
     "output_type": "stream",
     "text": [
      "['play store', 'youtube', 'whatsapp', 'swiggy', 'zomato', 'maps', 'chrome', 'calculator', 'calendar', 'ganes', 'irctc', 'amazon', 'flipkart', 'ajio', 'myntra', 'blinkit']\n"
     ]
    }
   ],
   "source": [
    "# remove\n",
    "apps = [\"play store\", \"youtube\", \"whatsapp\", \"swiggy\", \"zomato\", \"maps\", \"gmail\", \"chrome\", \"calculator\", \"calendar\", \"ganes\", \"irctc\", \"amazon\", \"flipkart\", \"ajio\",\"myntra\", \"blinkit\"]\n",
    "apps.remove(\"gmail\")\n",
    "print(apps)"
   ]
  },
  {
   "cell_type": "code",
   "execution_count": 8,
   "id": "f1dfeccd",
   "metadata": {},
   "outputs": [
    {
     "name": "stdout",
     "output_type": "stream",
     "text": [
      "['play store', 'youtube', 'whatsapp', 'swiggy', 'zomato', 'maps', 'gmail', 'chrome', 'calculator', 'calendar', 'ganes', 'irctc', 'amazon', 'flipkart', 'ajio', 'myntra', 'blinkit', 'facebook', 'play store', 'youtube', 'whatsapp', 'swiggy', 'zomato', 'maps', 'gmail', 'chrome', 'calculator', 'calendar', 'ganes', 'irctc', 'amazon', 'flipkart', 'ajio', 'myntra', 'blinkit', 'facebook']\n"
     ]
    }
   ],
   "source": [
    "# Copy\n",
    "\n",
    "apps_copy = apps.copy()\n",
    "print(apps_copy)"
   ]
  },
  {
   "cell_type": "code",
   "execution_count": 10,
   "id": "aff0d6b6",
   "metadata": {},
   "outputs": [
    {
     "name": "stdout",
     "output_type": "stream",
     "text": [
      "['play store', 'youtube', 'whatsapp', 'swiggy', 'zomato', 'maps', 'gmail', 'chrome', 'calculator', 'calendar', 'ganes', 'irctc', 'amazon', 'flipkart', 'ajio', 'myntra', 'blinkit', 'facebook', 'play store', 'youtube', 'whatsapp', 'swiggy', 'zomato', 'maps', 'gmail', 'chrome', 'calculator', 'calendar', 'ganes', 'irctc', 'amazon', 'flipkart', 'ajio', 'myntra', 'blinkit', 'facebook', 'play store', 'youtube', 'whatsapp', 'swiggy', 'zomato', 'maps', 'gmail', 'chrome', 'calculator', 'calendar', 'ganes', 'irctc', 'amazon', 'flipkart', 'ajio', 'myntra', 'blinkit', 'facebook', 'play store', 'youtube', 'whatsapp', 'swiggy', 'zomato', 'maps', 'gmail', 'chrome', 'calculator', 'calendar', 'ganes', 'irctc', 'amazon', 'flipkart', 'ajio', 'myntra', 'blinkit', 'facebook', 'play store', 'youtube', 'whatsapp', 'swiggy', 'zomato', 'maps', 'gmail', 'chrome', 'calculator', 'calendar', 'ganes', 'irctc', 'amazon', 'flipkart', 'ajio', 'myntra', 'blinkit', 'facebook', 'play store', 'youtube', 'whatsapp', 'swiggy', 'zomato', 'maps', 'gmail', 'chrome', 'calculator', 'calendar', 'ganes', 'irctc', 'amazon', 'flipkart', 'ajio', 'myntra', 'blinkit', 'facebook', 'play store', 'youtube', 'whatsapp', 'swiggy', 'zomato', 'maps', 'gmail', 'chrome', 'calculator', 'calendar', 'ganes', 'irctc', 'amazon', 'flipkart', 'ajio', 'myntra', 'blinkit', 'facebook', 'play store', 'youtube', 'whatsapp', 'swiggy', 'zomato', 'maps', 'gmail', 'chrome', 'calculator', 'calendar', 'ganes', 'irctc', 'amazon', 'flipkart', 'ajio', 'myntra', 'blinkit', 'facebook']\n"
     ]
    }
   ],
   "source": [
    "apps.extend(apps)\n",
    "print(apps)"
   ]
  },
  {
   "cell_type": "code",
   "execution_count": 11,
   "id": "c671bce3",
   "metadata": {},
   "outputs": [
    {
     "name": "stdout",
     "output_type": "stream",
     "text": [
      "play store\n",
      "youtube\n",
      "whatsapp\n",
      "swiggy\n",
      "zomato\n",
      "maps\n",
      "gmail\n",
      "chrome\n",
      "calculator\n",
      "calendar\n",
      "ganes\n",
      "irctc\n",
      "amazon\n",
      "flipkart\n",
      "ajio\n",
      "myntra\n",
      "blinkit\n",
      "facebook\n",
      "play store\n",
      "youtube\n",
      "whatsapp\n",
      "swiggy\n",
      "zomato\n",
      "maps\n",
      "gmail\n",
      "chrome\n",
      "calculator\n",
      "calendar\n",
      "ganes\n",
      "irctc\n",
      "amazon\n",
      "flipkart\n",
      "ajio\n",
      "myntra\n",
      "blinkit\n",
      "facebook\n",
      "play store\n",
      "youtube\n",
      "whatsapp\n",
      "swiggy\n",
      "zomato\n",
      "maps\n",
      "gmail\n",
      "chrome\n",
      "calculator\n",
      "calendar\n",
      "ganes\n",
      "irctc\n",
      "amazon\n",
      "flipkart\n",
      "ajio\n",
      "myntra\n",
      "blinkit\n",
      "facebook\n",
      "play store\n",
      "youtube\n",
      "whatsapp\n",
      "swiggy\n",
      "zomato\n",
      "maps\n",
      "gmail\n",
      "chrome\n",
      "calculator\n",
      "calendar\n",
      "ganes\n",
      "irctc\n",
      "amazon\n",
      "flipkart\n",
      "ajio\n",
      "myntra\n",
      "blinkit\n",
      "facebook\n",
      "play store\n",
      "youtube\n",
      "whatsapp\n",
      "swiggy\n",
      "zomato\n",
      "maps\n",
      "gmail\n",
      "chrome\n",
      "calculator\n",
      "calendar\n",
      "ganes\n",
      "irctc\n",
      "amazon\n",
      "flipkart\n",
      "ajio\n",
      "myntra\n",
      "blinkit\n",
      "facebook\n",
      "play store\n",
      "youtube\n",
      "whatsapp\n",
      "swiggy\n",
      "zomato\n",
      "maps\n",
      "gmail\n",
      "chrome\n",
      "calculator\n",
      "calendar\n",
      "ganes\n",
      "irctc\n",
      "amazon\n",
      "flipkart\n",
      "ajio\n",
      "myntra\n",
      "blinkit\n",
      "facebook\n",
      "play store\n",
      "youtube\n",
      "whatsapp\n",
      "swiggy\n",
      "zomato\n",
      "maps\n",
      "gmail\n",
      "chrome\n",
      "calculator\n",
      "calendar\n",
      "ganes\n",
      "irctc\n",
      "amazon\n",
      "flipkart\n",
      "ajio\n",
      "myntra\n",
      "blinkit\n",
      "facebook\n",
      "play store\n",
      "youtube\n",
      "whatsapp\n",
      "swiggy\n",
      "zomato\n",
      "maps\n",
      "gmail\n",
      "chrome\n",
      "calculator\n",
      "calendar\n",
      "ganes\n",
      "irctc\n",
      "amazon\n",
      "flipkart\n",
      "ajio\n",
      "myntra\n",
      "blinkit\n",
      "facebook\n"
     ]
    }
   ],
   "source": [
    "for i in apps:\n",
    "    print(i)"
   ]
  },
  {
   "cell_type": "code",
   "execution_count": 12,
   "id": "d492fdfc",
   "metadata": {},
   "outputs": [
    {
     "name": "stdout",
     "output_type": "stream",
     "text": [
      "[]\n"
     ]
    }
   ],
   "source": [
    "# clear\n",
    "apps_copy.clear()\n",
    "print(apps_copy)"
   ]
  },
  {
   "cell_type": "code",
   "execution_count": 16,
   "id": "76eb39cb",
   "metadata": {},
   "outputs": [
    {
     "name": "stdout",
     "output_type": "stream",
     "text": [
      "['ajio', 'amazon', 'blinkit', 'calculator', 'calendar', 'chrome', 'flipkart', 'ganes', 'gmail', 'irctc', 'maps', 'myntra', 'play store', 'swiggy', 'whatsapp', 'youtube', 'zomato']\n"
     ]
    }
   ],
   "source": [
    "# sort\n",
    "\n",
    "apps = [\"play store\", \"youtube\", \"whatsapp\", \"swiggy\", \"zomato\", \"maps\", \"gmail\", \"chrome\", \"calculator\", \"calendar\", \"ganes\", \"irctc\", \"amazon\", \"flipkart\", \"ajio\",\"myntra\", \"blinkit\"]\n",
    "sorting = sorted(apps)\n",
    "print(sorting)"
   ]
  },
  {
   "cell_type": "code",
   "execution_count": 14,
   "id": "ee444449",
   "metadata": {},
   "outputs": [
    {
     "name": "stdout",
     "output_type": "stream",
     "text": [
      "[]\n"
     ]
    }
   ],
   "source": [
    "apps.clear()\n",
    "print(apps)"
   ]
  },
  {
   "cell_type": "code",
   "execution_count": 7,
   "id": "fb9fc330",
   "metadata": {},
   "outputs": [
    {
     "name": "stdout",
     "output_type": "stream",
     "text": [
      "['zomato', 'youtube', 'whatsapp', 'swiggy', 'play store', 'myntra', 'maps', 'irctc', 'gmail', 'ganes', 'flipkart', 'chrome', 'calendar', 'calculator', 'blinkit', 'amazon', 'ajio']\n"
     ]
    }
   ],
   "source": [
    "# reverse sorting\n",
    "\n",
    "apps = [\"play store\", \"youtube\", \"whatsapp\", \"swiggy\", \"zomato\", \"maps\", \"gmail\", \"chrome\", \"calculator\", \"calendar\", \"ganes\", \"irctc\", \"amazon\", \"flipkart\", \"ajio\",\"myntra\", \"blinkit\"]\n",
    "sorting = sorted(apps, reverse=True)\n",
    "print(sorting)"
   ]
  },
  {
   "cell_type": "code",
   "execution_count": 8,
   "id": "fdc16fb1",
   "metadata": {},
   "outputs": [
    {
     "name": "stdout",
     "output_type": "stream",
     "text": [
      "False\n"
     ]
    }
   ],
   "source": [
    "print(\"facebook\" in apps)"
   ]
  },
  {
   "cell_type": "code",
   "execution_count": 9,
   "id": "5907f84a",
   "metadata": {},
   "outputs": [
    {
     "name": "stdout",
     "output_type": "stream",
     "text": [
      "True\n"
     ]
    }
   ],
   "source": [
    "print(\"gmail\" in apps)"
   ]
  },
  {
   "cell_type": "code",
   "execution_count": 17,
   "id": "6a9383d1",
   "metadata": {},
   "outputs": [
    {
     "name": "stdout",
     "output_type": "stream",
     "text": [
      "['ajio', 'amazon', 'blinkit', 'calculator', 'calendar', 'chrome', 'flipkart', 'ganes', 'gmail', 'irctc', 'maps', 'myntra', 'play store', 'swiggy', 'whatsapp', 'youtube', 'zomato']\n"
     ]
    }
   ],
   "source": [
    "apps.sort()\n",
    "print(apps)"
   ]
  },
  {
   "cell_type": "code",
   "execution_count": 18,
   "id": "a7a436e4",
   "metadata": {},
   "outputs": [
    {
     "name": "stdout",
     "output_type": "stream",
     "text": [
      "['play store', 'youtube', 'whatsapp', 'swiggy', 'zomato', 'maps', 'gmail', 'chrome', 'calculator', 'calendar', 'ganes', 'irctc', 'amazon', 'flipkart', 'ajio', 'myntra', 'blinkit', 'Disny', 'hot star', 'amazon prime', 'netflix']\n"
     ]
    }
   ],
   "source": [
    "apps = [\"play store\", \"youtube\", \"whatsapp\", \"swiggy\", \"zomato\", \"maps\", \"gmail\", \"chrome\", \"calculator\", \"calendar\", \"ganes\", \"irctc\", \"amazon\", \"flipkart\", \"ajio\",\"myntra\", \"blinkit\"]\n",
    "apps2 = [\"Disny\", \"hot star\", \"amazon prime\", 'netflix']\n",
    "apps.extend(apps2)\n",
    "print(apps)"
   ]
  },
  {
   "cell_type": "code",
   "execution_count": 19,
   "id": "37c2c85a",
   "metadata": {},
   "outputs": [
    {
     "name": "stdout",
     "output_type": "stream",
     "text": [
      "['Disny', 'hot star', 'amazon prime', 'netflix', 'play store', 'youtube', 'whatsapp', 'swiggy', 'zomato', 'maps', 'gmail', 'chrome', 'calculator', 'calendar', 'ganes', 'irctc', 'amazon', 'flipkart', 'ajio', 'myntra', 'blinkit', 'Disny', 'hot star', 'amazon prime', 'netflix']\n"
     ]
    }
   ],
   "source": [
    "apps2.extend(apps)\n",
    "print(apps2)"
   ]
  }
 ],
 "metadata": {
  "kernelspec": {
   "display_name": "base",
   "language": "python",
   "name": "python3"
  },
  "language_info": {
   "codemirror_mode": {
    "name": "ipython",
    "version": 3
   },
   "file_extension": ".py",
   "mimetype": "text/x-python",
   "name": "python",
   "nbconvert_exporter": "python",
   "pygments_lexer": "ipython3",
   "version": "3.13.2"
  }
 },
 "nbformat": 4,
 "nbformat_minor": 5
}
