{
 "cells": [
  {
   "cell_type": "markdown",
   "id": "5a7e0cce",
   "metadata": {},
   "source": [
    "## List method"
   ]
  },
  {
   "cell_type": "code",
   "execution_count": null,
   "id": "e0e6495f",
   "metadata": {},
   "outputs": [],
   "source": [
    "# append() - to add item at the end of the list\n",
    "# insert() - to add item at any soecific position in the list\n",
    "# pop() - to delete item using index position\n",
    "# remove() - to delete items using item name\n",
    "# copy() - to make a duplicate of the list\n",
    "# sort() - to sort the list in a perticuler order\n",
    "# extend() - to combine two list into a single list\n",
    "# clear() - to delete all the items from the list but not he list"
   ]
  },
  {
   "cell_type": "code",
   "execution_count": 1,
   "id": "830d18c9",
   "metadata": {},
   "outputs": [
    {
     "name": "stdout",
     "output_type": "stream",
     "text": [
      "['play store', 'youtube', 'whatsapp', 'swiggy', 'zomato', 'maps', 'gmail', 'chrome', 'calculator', 'calendar', 'ganes', 'irctc', 'amazon', 'flipkart', 'ajio', 'myntra', 'blinkit', 'facebook']\n"
     ]
    }
   ],
   "source": [
    "apps = [\"play store\", \"youtube\", \"whatsapp\", \"swiggy\", \"zomato\", \"maps\", \"gmail\", \"chrome\", \"calculator\", \"calendar\", \"ganes\", \"irctc\", \"amazon\", \"flipkart\", \"ajio\",\"myntra\", \"blinkit\"]\n",
    "apps.append(\"facebook\")\n",
    "print(apps)"
   ]
  },
  {
   "cell_type": "code",
   "execution_count": 7,
   "id": "da5aa0f4",
   "metadata": {},
   "outputs": [
    {
     "name": "stdout",
     "output_type": "stream",
     "text": [
      "['play store', 'youtube', 'whatsapp', 'swiggy', 'ham', 'ham', 'zomato', 'maps', 'chrome', 'calculator', 'calendar', 'ganes', 'irctc', 'amazon', 'flipkart', 'ajio', 'myntra', 'blinkit']\n"
     ]
    }
   ],
   "source": [
    "apps.insert(4, \"ham\")\n",
    "print(apps)"
   ]
  },
  {
   "cell_type": "code",
   "execution_count": null,
   "id": "14da4211",
   "metadata": {},
   "outputs": [],
   "source": []
  },
  {
   "cell_type": "code",
   "execution_count": 4,
   "id": "7b29cbbe",
   "metadata": {},
   "outputs": [
    {
     "name": "stdout",
     "output_type": "stream",
     "text": [
      "['play store', 'youtube', 'whatsapp', 'swiggy', 'netflix', 'zomato', 'maps', 'gmail', 'chrome', 'calculator', 'calendar', 'ganes', 'irctc', 'amazon', 'flipkart', 'ajio', 'myntra', 'blinkit']\n"
     ]
    }
   ],
   "source": [
    "# insert\n",
    "apps = [\"play store\", \"youtube\", \"whatsapp\", \"swiggy\", \"zomato\", \"maps\", \"gmail\", \"chrome\", \"calculator\", \"calendar\", \"ganes\", \"irctc\", \"amazon\", \"flipkart\", \"ajio\",\"myntra\", \"blinkit\"]\n",
    "apps.insert(4,\"netflix\")\n",
    "print(apps)"
   ]
  },
  {
   "cell_type": "code",
   "execution_count": 4,
   "id": "48de4e98",
   "metadata": {},
   "outputs": [
    {
     "name": "stdout",
     "output_type": "stream",
     "text": [
      "['play store', 'youtube', 'whatsapp', 'swiggy', 'maps', 'gmail', 'chrome', 'calculator', 'calendar', 'ganes', 'irctc', 'amazon', 'flipkart', 'ajio', 'myntra', 'blinkit']\n"
     ]
    }
   ],
   "source": [
    "# Pop\n",
    "apps = [\"play store\", \"youtube\", \"whatsapp\", \"swiggy\", \"zomato\", \"maps\", \"gmail\", \"chrome\", \"calculator\", \"calendar\", \"ganes\", \"irctc\", \"amazon\", \"flipkart\", \"ajio\",\"myntra\", \"blinkit\"]\n",
    "apps.pop(4)\n",
    "print(apps)"
   ]
  },
  {
   "cell_type": "code",
   "execution_count": 5,
   "id": "7cd6c3e2",
   "metadata": {},
   "outputs": [
    {
     "name": "stdout",
     "output_type": "stream",
     "text": [
      "['play store', 'youtube', 'whatsapp', 'swiggy', 'zomato', 'maps', 'chrome', 'calculator', 'calendar', 'ganes', 'irctc', 'amazon', 'flipkart', 'ajio', 'myntra', 'blinkit']\n"
     ]
    }
   ],
   "source": [
    "# remove\n",
    "apps = [\"play store\", \"youtube\", \"whatsapp\", \"swiggy\", \"zomato\", \"maps\", \"gmail\", \"chrome\", \"calculator\", \"calendar\", \"ganes\", \"irctc\", \"amazon\", \"flipkart\", \"ajio\",\"myntra\", \"blinkit\"]\n",
    "apps.remove(\"gmail\")\n",
    "print(apps)"
   ]
  }
 ],
 "metadata": {
  "kernelspec": {
   "display_name": "base",
   "language": "python",
   "name": "python3"
  },
  "language_info": {
   "codemirror_mode": {
    "name": "ipython",
    "version": 3
   },
   "file_extension": ".py",
   "mimetype": "text/x-python",
   "name": "python",
   "nbconvert_exporter": "python",
   "pygments_lexer": "ipython3",
   "version": "3.13.2"
  }
 },
 "nbformat": 4,
 "nbformat_minor": 5
}
