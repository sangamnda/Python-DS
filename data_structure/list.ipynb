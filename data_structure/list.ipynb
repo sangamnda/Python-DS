{
 "cells": [
  {
   "cell_type": "code",
   "execution_count": 1,
   "id": "9df02c07",
   "metadata": {},
   "outputs": [
    {
     "name": "stdout",
     "output_type": "stream",
     "text": [
      "['play store', 'youtube', 'whatsapp', 'swiggy', 'zomato', 'maps', 'gmail', 'chrome', 'calculator', 'calendar', 'ganes', 'irctc', 'amazon', 'flipkart', 'ajio', 'myntra', 'blinkit']\n"
     ]
    }
   ],
   "source": [
    "apps = [\"play store\", \"youtube\", \"whatsapp\", \"swiggy\", \"zomato\", \"maps\", \"gmail\", \"chrome\", \"calculator\", \"calendar\", \"ganes\", \"irctc\", \"amazon\", \"flipkart\", \"ajio\",\"myntra\", \"blinkit\"]\n",
    "print(apps)"
   ]
  },
  {
   "cell_type": "code",
   "execution_count": 5,
   "id": "310ed16c",
   "metadata": {},
   "outputs": [
    {
     "name": "stdout",
     "output_type": "stream",
     "text": [
      "play store\n",
      "youtube\n",
      "whatsapp\n",
      "swiggy\n",
      "zomato\n",
      "maps\n",
      "gmail\n",
      "chrome\n",
      "calculator\n",
      "calendar\n",
      "ganes\n",
      "irctc\n",
      "amazon\n",
      "flipkart\n",
      "ajio\n",
      "myntra\n",
      "blinkit\n"
     ]
    }
   ],
   "source": [
    "apps = [\"play store\", \"youtube\", \"whatsapp\", \"swiggy\", \"zomato\", \"maps\", \"gmail\", \"chrome\", \"calculator\", \"calendar\", \"ganes\", \"irctc\", \"amazon\", \"flipkart\", \"ajio\",\"myntra\", \"blinkit\"]\n",
    "for i in apps:\n",
    "    print(i)"
   ]
  },
  {
   "cell_type": "code",
   "execution_count": 2,
   "id": "538e0f84",
   "metadata": {},
   "outputs": [
    {
     "name": "stdout",
     "output_type": "stream",
     "text": [
      "play store youtube whatsapp swiggy zomato maps gmail chrome calculator calendar ganes irctc amazon flipkart ajio myntra blinkit "
     ]
    }
   ],
   "source": [
    "apps = [\"play store\", \"youtube\", \"whatsapp\", \"swiggy\", \"zomato\", \"maps\", \"gmail\", \"chrome\", \"calculator\", \"calendar\", \"ganes\", \"irctc\", \"amazon\", \"flipkart\", \"ajio\",\"myntra\", \"blinkit\"]\n",
    "for i in apps:\n",
    "    print(i, end= \" \")"
   ]
  }
 ],
 "metadata": {
  "kernelspec": {
   "display_name": "base",
   "language": "python",
   "name": "python3"
  },
  "language_info": {
   "codemirror_mode": {
    "name": "ipython",
    "version": 3
   },
   "file_extension": ".py",
   "mimetype": "text/x-python",
   "name": "python",
   "nbconvert_exporter": "python",
   "pygments_lexer": "ipython3",
   "version": "3.13.2"
  }
 },
 "nbformat": 4,
 "nbformat_minor": 5
}
