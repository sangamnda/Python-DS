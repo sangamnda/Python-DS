{
 "cells": [
  {
   "cell_type": "code",
   "execution_count": 6,
   "id": "d148311c",
   "metadata": {},
   "outputs": [
    {
     "name": "stdout",
     "output_type": "stream",
     "text": [
      "['play store', 'youtube', 'whatsapp', 'swiggy', 'zomato', 'maps', 'gmail', 'chrome', 'calculator', 'calendar', 'ganes', 'irctc', 'amazon', 'flipkart', 'ajio', 'myntra', 'blinkit']\n"
     ]
    }
   ],
   "source": [
    "list1 = [\"play store\", \"youtube\", \"whatsapp\", \"swiggy\", \"zomato\", \"maps\", \"gmail\", \"chrome\", \"calculator\", \"calendar\", \"ganes\", \"irctc\", \"amazon\", \"flipkart\", \"ajio\",\"myntra\", \"blinkit\"]\n",
    "print(list1)"
   ]
  },
  {
   "cell_type": "code",
   "execution_count": 10,
   "id": "07b4c91e",
   "metadata": {},
   "outputs": [
    {
     "name": "stdout",
     "output_type": "stream",
     "text": [
      "play store youtube whatsapp swiggy zomato maps gmail chrome calculator calendar ganes irctc amazon flipkart ajio myntra blinkit "
     ]
    }
   ],
   "source": [
    "list1 = [\"play store\", \"youtube\", \"whatsapp\", \"swiggy\", \"zomato\", \"maps\", \"gmail\", \"chrome\", \"calculator\", \"calendar\", \"ganes\", \"irctc\", \"amazon\", \"flipkart\", \"ajio\",\"myntra\", \"blinkit\"]\n",
    "for i in list1:\n",
    "    print(i, end= \" \")"
   ]
  }
 ],
 "metadata": {
  "kernelspec": {
   "display_name": "base",
   "language": "python",
   "name": "python3"
  },
  "language_info": {
   "codemirror_mode": {
    "name": "ipython",
    "version": 3
   },
   "file_extension": ".py",
   "mimetype": "text/x-python",
   "name": "python",
   "nbconvert_exporter": "python",
   "pygments_lexer": "ipython3",
   "version": "3.13.2"
  }
 },
 "nbformat": 4,
 "nbformat_minor": 5
}
