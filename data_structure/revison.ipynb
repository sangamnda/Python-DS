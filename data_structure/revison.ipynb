{
 "cells": [
  {
   "cell_type": "code",
   "execution_count": null,
   "id": "b24588e8",
   "metadata": {},
   "outputs": [],
   "source": [
    "# Q: Create a list of 3 fruits and print the list.\n",
    "# Q: Create a list of 2 colors, add one more color to it, and print the updated list.\n",
    "# Q: Create a list of 5 numbers and print the first and last elements.\n",
    "# Q: Create a list of 3 animals, remove one animal from the list, and print the result.\n",
    "# Q: Create a list of 5 numbers, sort them in ascending order, and print the sorted list.\n",
    "# Q: Create a list of 4 cities and print how many cities are in the list.\n",
    "# Q: Create a list of 3 names. Check if \"Bob\" is in the list and print a message if it is.\n",
    "# Q: Create a list of 3 flowers and print each flower using a loop.\n",
    "# Q: Create a list of 4 numbers. Find and print the sum of all numbers in the list.\n",
    "# Q: Create a list of 5 alphabets and print the first 3 alphabets using slicing."
   ]
  },
  {
   "cell_type": "code",
   "execution_count": 1,
   "id": "0261a8f6",
   "metadata": {},
   "outputs": [
    {
     "name": "stdout",
     "output_type": "stream",
     "text": [
      "['apple', 'banana', 'grapes']\n"
     ]
    }
   ],
   "source": [
    "# Q: Create a list of 3 fruits and print the list.\n",
    "fruits = [\"apple\", \"banana\", \"grapes\"]\n",
    "print(fruits)"
   ]
  },
  {
   "cell_type": "code",
   "execution_count": 2,
   "id": "9285d965",
   "metadata": {},
   "outputs": [
    {
     "name": "stdout",
     "output_type": "stream",
     "text": [
      "['red', 'blak', 'white']\n"
     ]
    }
   ],
   "source": [
    "# Q: Create a list of 2 colors, add one more color to it, and print the updated list.\n",
    "colors = [\"red\", \"blak\"]\n",
    "colors.append(\"white\")\n",
    "print(colors)"
   ]
  },
  {
   "cell_type": "code",
   "execution_count": 4,
   "id": "e6980878",
   "metadata": {},
   "outputs": [
    {
     "name": "stdout",
     "output_type": "stream",
     "text": [
      "Vishal\n",
      "obaid\n"
     ]
    }
   ],
   "source": [
    "# Q: Create a list of 5 numbers and print the first and last elements.\n",
    "mem1 = [\"Vishal\", \"sayeed\", \"adnan\", \"vijay\", \"obaid\"]\n",
    "print(mem1[0])\n",
    "print(mem1[-1])"
   ]
  },
  {
   "cell_type": "code",
   "execution_count": 6,
   "id": "46a0fdc7",
   "metadata": {},
   "outputs": [
    {
     "name": "stdout",
     "output_type": "stream",
     "text": [
      "['goat', 'sheep']\n"
     ]
    }
   ],
   "source": [
    "# Q: Create a list of 3 animals, remove one animal from the list, and print the result.\n",
    "animal = [\"camel\", \"goat\", \"sheep\"]\n",
    "animal.pop(0)\n",
    "print(animal)"
   ]
  },
  {
   "cell_type": "code",
   "execution_count": 7,
   "id": "472a3b5c",
   "metadata": {},
   "outputs": [
    {
     "name": "stdout",
     "output_type": "stream",
     "text": [
      "['camel', 'goat']\n"
     ]
    }
   ],
   "source": [
    "# Q: Create a list of 3 animals, remove one animal from the list, and print the result.\n",
    "animal = [\"camel\", \"goat\", \"sheep\"]\n",
    "animal.remove(\"sheep\")\n",
    "print(animal)"
   ]
  },
  {
   "cell_type": "code",
   "execution_count": null,
   "id": "2c229f60",
   "metadata": {},
   "outputs": [
    {
     "name": "stdout",
     "output_type": "stream",
     "text": [
      "['adnan', 'obaid', 'sayeed', 'sulaiman', 'vijay']\n"
     ]
    }
   ],
   "source": [
    "# Q: Create a list of 5 members, sort them in ascending order, and print the sorted list.\n",
    "sort1 = [\"sulaiman\", \"sayeed\", \"obaid\", \"vijay\", \"adnan\"]\n",
    "sort1.sort()\n",
    "print(sort1)"
   ]
  },
  {
   "cell_type": "code",
   "execution_count": 13,
   "id": "5f35b7a1",
   "metadata": {},
   "outputs": [
    {
     "name": "stdout",
     "output_type": "stream",
     "text": [
      "[1, 2, 5, 6, 9]\n"
     ]
    }
   ],
   "source": [
    "# Q: Create a list of 5 members, sort them in ascending order, and print the sorted list.\n",
    "num1 = [2, 5, 1, 6, 9]\n",
    "num1.sort()\n",
    "print(num1)"
   ]
  },
  {
   "cell_type": "code",
   "execution_count": 12,
   "id": "5aa515cf",
   "metadata": {},
   "outputs": [
    {
     "name": "stdout",
     "output_type": "stream",
     "text": [
      "4\n"
     ]
    }
   ],
   "source": [
    "# Q: Create a list of 4 cities and print how many cities are in the list.\n",
    "cities = [\"lucknow\", \"delhi\", \"mumbai\", \"hyderabad\"]\n",
    "total_items = len(cities)\n",
    "print(total_items)"
   ]
  },
  {
   "cell_type": "code",
   "execution_count": 22,
   "id": "06998c75",
   "metadata": {},
   "outputs": [
    {
     "name": "stdout",
     "output_type": "stream",
     "text": [
      "The given name 'bob' is availabe in the list\n"
     ]
    }
   ],
   "source": [
    "# Q: Create a list of 3 names. Check if \"Bob\" is in the list and print a message if it is.\n",
    "name = [\"jhon\", \"bob\", \"doe\"]\n",
    "if \"bob\" in name:\n",
    "    print(\"The given name 'bob' is availabe in the list\")\n",
    "else:\n",
    "    print(\"not available\")"
   ]
  },
  {
   "cell_type": "code",
   "execution_count": 17,
   "id": "f76a0aa1",
   "metadata": {},
   "outputs": [
    {
     "name": "stdout",
     "output_type": "stream",
     "text": [
      "rose\n",
      "sunflower\n",
      "tulip\n"
     ]
    }
   ],
   "source": [
    "# Q: Create a list of 3 flowers and print each flower using a loop.\n",
    "flowers = [\"rose\", \"sunflower\", \"tulip\"]\n",
    "for i in flowers:\n",
    "    print(i)"
   ]
  },
  {
   "cell_type": "code",
   "execution_count": 19,
   "id": "2d1310eb",
   "metadata": {},
   "outputs": [
    {
     "name": "stdout",
     "output_type": "stream",
     "text": [
      "23\n"
     ]
    }
   ],
   "source": [
    "# Q: Create a list of 4 numbers. Find and print the sum of all numbers in the list.\n",
    "num2 = [3, 7, 5, 8]\n",
    "sum1 = sum(num2)\n",
    "print(sum1)"
   ]
  },
  {
   "cell_type": "code",
   "execution_count": 20,
   "id": "39d93d78",
   "metadata": {},
   "outputs": [
    {
     "name": "stdout",
     "output_type": "stream",
     "text": [
      "['a', 'f', 'w']\n"
     ]
    }
   ],
   "source": [
    "# Q: Create a list of 5 alphabets and print the first 3 alphabets using slicing.\n",
    "alph = [\"a\", \"f\", \"w\", \"m\", \"o\"]\n",
    "print(alph[ :3])"
   ]
  }
 ],
 "metadata": {
  "kernelspec": {
   "display_name": "base",
   "language": "python",
   "name": "python3"
  },
  "language_info": {
   "codemirror_mode": {
    "name": "ipython",
    "version": 3
   },
   "file_extension": ".py",
   "mimetype": "text/x-python",
   "name": "python",
   "nbconvert_exporter": "python",
   "pygments_lexer": "ipython3",
   "version": "3.13.2"
  }
 },
 "nbformat": 4,
 "nbformat_minor": 5
}
