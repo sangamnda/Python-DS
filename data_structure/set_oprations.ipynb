{
 "cells": [
  {
   "cell_type": "code",
   "execution_count": 2,
   "id": "870c2e00",
   "metadata": {},
   "outputs": [
    {
     "name": "stdout",
     "output_type": "stream",
     "text": [
      "{1, 34, 'cherry', 27, 'litchi', 'grapes', 'mango', 'custured appale', 'pineapple', 'banana', 61}\n",
      "{'appale', 34, 'Sitaphal', 'cherry', 'pears', 'pomegratnets', 44, 14, 'mango', 'Jamun', 27, 61, 'berry'}\n"
     ]
    }
   ],
   "source": [
    "# Set oprations\n",
    "\n",
    "set1 = {\"mango\", \"banana\", \"pineapple\", 1, 34, 61, \"cherry\", \"custured appale\", \"litchi\", \"grapes\", \"mango\", \"cherry\", 34, 27, 61}\n",
    "set2 = {\"mango\", \"pears\", \"pomegratnets\", 14, 44, 61, \"cherry\", \"appale\", \"Jamun\", \"berry\", \"Sitaphal\", \"cherry\", 34, 27, 61}\n",
    "print(set1)\n",
    "print(set2)"
   ]
  },
  {
   "cell_type": "code",
   "execution_count": 3,
   "id": "a45d66f1",
   "metadata": {},
   "outputs": [
    {
     "name": "stdout",
     "output_type": "stream",
     "text": [
      "{'appale', 1, 'cherry', 14, 'grapes', 'custured appale', 'pineapple', 27, 'banana', 34, 'Sitaphal', 'pears', 'pomegratnets', 44, 'litchi', 'mango', 'Jamun', 61, 'berry'}\n",
      "{'appale', 1, 'cherry', 14, 'grapes', 'custured appale', 'pineapple', 27, 'banana', 34, 'Sitaphal', 'pears', 'pomegratnets', 44, 'litchi', 'mango', 'Jamun', 61, 'berry'}\n"
     ]
    }
   ],
   "source": [
    "# union operation\n",
    "print(set1.union(set2)) #union method\n",
    "print(set1|set2) # second methid of union\n"
   ]
  },
  {
   "cell_type": "code",
   "execution_count": 4,
   "id": "f83558cb",
   "metadata": {},
   "outputs": [
    {
     "name": "stdout",
     "output_type": "stream",
     "text": [
      "{34, 'cherry', 'mango', 27, 61}\n",
      "{34, 'cherry', 'mango', 27, 61}\n"
     ]
    }
   ],
   "source": [
    "# intersection \n",
    "print(set1.intersection(set2))\n",
    "print(set1&set2)"
   ]
  },
  {
   "cell_type": "code",
   "execution_count": 5,
   "id": "36990fd5",
   "metadata": {},
   "outputs": [
    {
     "name": "stdout",
     "output_type": "stream",
     "text": [
      "{1, 'litchi', 'grapes', 'custured appale', 'pineapple', 'banana'}\n",
      "{1, 'litchi', 'grapes', 'custured appale', 'pineapple', 'banana'}\n"
     ]
    }
   ],
   "source": [
    "print(set1.difference(set2))\n",
    "print(set1 - set2)"
   ]
  },
  {
   "cell_type": "code",
   "execution_count": 6,
   "id": "e7eacf83",
   "metadata": {},
   "outputs": [
    {
     "name": "stdout",
     "output_type": "stream",
     "text": [
      "{'appale', 1, 'Sitaphal', 'pears', 'pomegratnets', 44, 14, 'litchi', 'grapes', 'custured appale', 'Jamun', 'pineapple', 'banana', 'berry'}\n",
      "{'appale', 1, 'Sitaphal', 'pears', 'pomegratnets', 44, 14, 'litchi', 'grapes', 'custured appale', 'Jamun', 'pineapple', 'banana', 'berry'}\n"
     ]
    }
   ],
   "source": [
    "# symmetric_difference\n",
    "print(set1.symmetric_difference(set2))\n",
    "print(set1^set2)"
   ]
  },
  {
   "cell_type": "code",
   "execution_count": null,
   "id": "1ed61b4d",
   "metadata": {},
   "outputs": [
    {
     "name": "stdout",
     "output_type": "stream",
     "text": [
      "False\n"
     ]
    }
   ],
   "source": [
    "# Superset\n",
    "print(set1.issuperset(set2))"
   ]
  },
  {
   "cell_type": "code",
   "execution_count": null,
   "id": "6d6a4416",
   "metadata": {},
   "outputs": [
    {
     "name": "stdout",
     "output_type": "stream",
     "text": [
      "False\n"
     ]
    }
   ],
   "source": [
    "# subset\n",
    "print(set1.issubset(set2))"
   ]
  },
  {
   "cell_type": "code",
   "execution_count": 10,
   "id": "78804c59",
   "metadata": {},
   "outputs": [
    {
     "name": "stdout",
     "output_type": "stream",
     "text": [
      "True\n"
     ]
    }
   ],
   "source": [
    "set1 = {\"mango\", \"banana\", \"pineapple\", 1, 34, 61, \"cherry\", \"custured appale\", \"litchi\", \"grapes\", \"mango\", \"cherry\", 34, 27, 61}\n",
    "set2 = {\"pineapple\", 1, 34, 61, \"cherry\", \"custured appale\", \"litchi\"}\n",
    "print(set1.issuperset(set2))"
   ]
  },
  {
   "cell_type": "code",
   "execution_count": 11,
   "id": "6a94a49f",
   "metadata": {},
   "outputs": [
    {
     "name": "stdout",
     "output_type": "stream",
     "text": [
      "True\n"
     ]
    }
   ],
   "source": [
    "print(set2.issubset(set1))"
   ]
  },
  {
   "cell_type": "code",
   "execution_count": null,
   "id": "5a392b28",
   "metadata": {},
   "outputs": [
    {
     "name": "stdout",
     "output_type": "stream",
     "text": [
      "Je t'aime\n"
     ]
    }
   ],
   "source": [
    "print(\"Je t'aime\") bonjour"
   ]
  },
  {
   "cell_type": "code",
   "execution_count": 1,
   "id": "1684c530",
   "metadata": {},
   "outputs": [
    {
     "name": "stdout",
     "output_type": "stream",
     "text": [
      "{'o', 'l', 'e', 'h'}\n"
     ]
    }
   ],
   "source": [
    "a = \"hello\"\n",
    "print(set(a))"
   ]
  }
 ],
 "metadata": {
  "kernelspec": {
   "display_name": "base",
   "language": "python",
   "name": "python3"
  },
  "language_info": {
   "codemirror_mode": {
    "name": "ipython",
    "version": 3
   },
   "file_extension": ".py",
   "mimetype": "text/x-python",
   "name": "python",
   "nbconvert_exporter": "python",
   "pygments_lexer": "ipython3",
   "version": "3.13.2"
  }
 },
 "nbformat": 4,
 "nbformat_minor": 5
}
