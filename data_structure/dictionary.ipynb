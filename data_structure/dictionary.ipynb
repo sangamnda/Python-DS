{
 "cells": [
  {
   "cell_type": "code",
   "execution_count": 16,
   "id": "255c73c3",
   "metadata": {},
   "outputs": [
    {
     "name": "stdout",
     "output_type": "stream",
     "text": [
      "{'Name': ['Adnan', 'Vijay', 'Sulaiman', 'Malik', 'Rahul', 'Puru'], 'Course': ['B.tech', 'M.tech', 'MCA', 'B.A', 'M.A', 'BCA'], 'Age': ['22', '23', '25', '22', '29', '21'], 'Gender': ['male', 'male', 'male', 'male', 'male', 'male']}\n"
     ]
    }
   ],
   "source": [
    "std = {\n",
    "    \"Name\" : [\"Adnan\", \"Vijay\", \"Sulaiman\", \"Malik\", \"Rahul\", \"Puru\"],\n",
    "    \"Course\" : [\"B.tech\", \"M.tech\", \"MCA\", \"B.A\", \"M.A\", \"BCA\"],\n",
    "    \"Age\" : [\"22\", \"23\", \"25\", \"22\", \"29\",\"21\"],\n",
    "    \"Gender\" : [\"male\", \"male\", \"male\", \"male\", \"male\", \"male\"],\n",
    "}\n",
    "print(std)"
   ]
  },
  {
   "cell_type": "code",
   "execution_count": 2,
   "id": "32c554b2",
   "metadata": {},
   "outputs": [],
   "source": [
    "# how to declare it\n",
    "# how access key and value pairs\n",
    "# how to use loops in dictionary\n",
    "# indexing in dictionary"
   ]
  },
  {
   "cell_type": "code",
   "execution_count": 3,
   "id": "bd8d2fb3",
   "metadata": {},
   "outputs": [
    {
     "name": "stdout",
     "output_type": "stream",
     "text": [
      "{'lucknow': [38, 23, 45], 'delhi': [32, 33, 42], 'mumbai': [23, 18, 20]} "
     ]
    }
   ],
   "source": [
    "temp = {\n",
    "    \"lucknow\" : [38,23,45],\n",
    "    \"delhi\" : [32,33,42],\n",
    "    \"mumbai\" : [23, 18, 20],\n",
    "}\n",
    "print(temp, end= \" \")"
   ]
  },
  {
   "cell_type": "code",
   "execution_count": 4,
   "id": "64915ae2",
   "metadata": {},
   "outputs": [
    {
     "name": "stdout",
     "output_type": "stream",
     "text": [
      "{'name': 'Sulaiman', 'age': 30, 'grade': 'M.A'}\n"
     ]
    }
   ],
   "source": [
    "info = dict(name = \"Sulaiman\", age = 30, grade = \"M.A\")\n",
    "print(info)"
   ]
  },
  {
   "cell_type": "code",
   "execution_count": 5,
   "id": "d1571180",
   "metadata": {},
   "outputs": [
    {
     "name": "stdout",
     "output_type": "stream",
     "text": [
      "{'name': 'Sulaiman', 'age': 30, 'employee_code': 52261127, 'tenure': 1}\n"
     ]
    }
   ],
   "source": [
    "emplyee = dict(name = input(\"enter your name: \"), age = int(input(\"enter your age: \")), employee_code = int(input(\"enter employee code: \")), tenure = int(input(\"enter your tenure: \")))\n",
    "print(emplyee)"
   ]
  },
  {
   "cell_type": "code",
   "execution_count": 6,
   "id": "0ea7c53e",
   "metadata": {},
   "outputs": [
    {
     "name": "stdout",
     "output_type": "stream",
     "text": [
      "['Adnan', 'Vijay', 'Sulaiman', 'Malik', 'Rahul', 'Puru']\n",
      "Sulaiman\n"
     ]
    }
   ],
   "source": [
    "# first methode to access value through key\n",
    "print(std[\"Name\"])\n",
    "print(info[\"name\"])"
   ]
  },
  {
   "cell_type": "code",
   "execution_count": 7,
   "id": "52941c72",
   "metadata": {},
   "outputs": [
    {
     "name": "stdout",
     "output_type": "stream",
     "text": [
      "['B.tech', 'M.tech', 'MCA', 'B.A', 'M.A', 'BCA']\n"
     ]
    }
   ],
   "source": [
    "# 2nd mehode to access value through key\n",
    "print(std.get(\"Course\"))"
   ]
  },
  {
   "cell_type": "code",
   "execution_count": 8,
   "id": "a82a7c1f",
   "metadata": {},
   "outputs": [
    {
     "name": "stdout",
     "output_type": "stream",
     "text": [
      "{'Name': ['Adnan', 'Vijay', 'Sulaiman', 'Malik', 'Rahul', 'Puru'], 'Course': ['B.tech', 'M.tech', 'MCA', 'B.A', 'M.A', 'BCA'], 'Age': ['22', '23', '25', '22', '29', '21'], 'Gender': ['male', 'male', 'male', 'male', 'male', 'male'], 'father_name': 'Shamshad Ahmad'}\n"
     ]
    }
   ],
   "source": [
    "# to add new key-value pair\n",
    "std[\"father_name\"] = \"Shamshad Ahmad\"\n",
    "print(std)"
   ]
  },
  {
   "cell_type": "code",
   "execution_count": 9,
   "id": "fe2417b5",
   "metadata": {},
   "outputs": [
    {
     "name": "stdout",
     "output_type": "stream",
     "text": [
      "Name\n",
      "Course\n",
      "Age\n",
      "Gender\n",
      "father_name\n"
     ]
    }
   ],
   "source": [
    "for i in std:\n",
    "    print(i)"
   ]
  },
  {
   "cell_type": "code",
   "execution_count": 14,
   "id": "15ff8b04",
   "metadata": {},
   "outputs": [
    {
     "name": "stdout",
     "output_type": "stream",
     "text": [
      "{'Name': 'Radha', 'Course': ['B.tech', 'M.tech', 'MCA', 'B.A', 'M.A', 'BCA'], 'Age': ['22', '23', '25', '22', '29', '21'], 'father_name': 'Shamshad Ahmad'}\n"
     ]
    }
   ],
   "source": [
    "std[\"Name\"] = \"Radha\"\n",
    "print(std)"
   ]
  },
  {
   "cell_type": "code",
   "execution_count": 11,
   "id": "6fb7ed2b",
   "metadata": {},
   "outputs": [
    {
     "name": "stdout",
     "output_type": "stream",
     "text": [
      "{'Name': 'Radha', 'Course': ['B.tech', 'M.tech', 'MCA', 'B.A', 'M.A', 'BCA'], 'Age': ['22', '23', '25', '22', '29', '21'], 'father_name': 'Shamshad Ahmad'}\n"
     ]
    }
   ],
   "source": [
    "# to delete a key-value pair\n",
    "del std[\"Gender\"]\n",
    "print(std)"
   ]
  },
  {
   "cell_type": "code",
   "execution_count": 12,
   "id": "30da80c8",
   "metadata": {},
   "outputs": [
    {
     "name": "stdout",
     "output_type": "stream",
     "text": [
      "{'Name': 'Radha', 'Course': ['B.tech', 'M.tech', 'MCA', 'B.A', 'M.A', 'BCA'], 'Age': ['22', '23', '25', '22', '29', '21'], 'father_name': 'Shamshad Ahmad'}\n"
     ]
    }
   ],
   "source": [
    "print(std)"
   ]
  },
  {
   "cell_type": "code",
   "execution_count": 17,
   "id": "77cfab48",
   "metadata": {},
   "outputs": [
    {
     "name": "stdout",
     "output_type": "stream",
     "text": [
      "{'Name': ['Adnan', 'Vijay', 'Sulaiman', 'Malik', 'Rahul', 'Puru', 'Radha'], 'Course': ['B.tech', 'M.tech', 'MCA', 'B.A', 'M.A', 'BCA', 'home science'], 'Age': ['22', '23', '25', '22', '29', '21', 20], 'Gender': ['male', 'male', 'male', 'male', 'male', 'male', 'Female']}\n"
     ]
    }
   ],
   "source": [
    "std[\"Name\"].append(\"Radha\")\n",
    "std[\"Age\"].append(20)\n",
    "std[\"Course\"].append(\"home science\")\n",
    "std[\"Gender\"].append(\"Female\")\n",
    "print(std)"
   ]
  },
  {
   "cell_type": "code",
   "execution_count": null,
   "id": "96f77f6f",
   "metadata": {},
   "outputs": [
    {
     "name": "stdout",
     "output_type": "stream",
     "text": [
      "dict_keys(['Name', 'Course', 'Age', 'Gender'])\n",
      "dict_values([['Adnan', 'Vijay', 'Sulaiman', 'Malik', 'Rahul', 'Puru', 'Radha', 'Radha', 'Radha'], ['B.tech', 'M.tech', 'MCA', 'B.A', 'M.A', 'BCA', 20, 'home science', 'home science'], ['22', '23', '25', '22', '29', '21', 20], ['male', 'male', 'male', 'male', 'male', 'male', 'Female', 'Female']])\n",
      "dict_items([('Name', ['Adnan', 'Vijay', 'Sulaiman', 'Malik', 'Rahul', 'Puru', 'Radha', 'Radha', 'Radha']), ('Course', ['B.tech', 'M.tech', 'MCA', 'B.A', 'M.A', 'BCA', 20, 'home science', 'home science']), ('Age', ['22', '23', '25', '22', '29', '21', 20]), ('Gender', ['male', 'male', 'male', 'male', 'male', 'male', 'Female', 'Female'])])\n"
     ]
    }
   ],
   "source": [
    "print(std.keys())\n",
    "print(std.values())\n",
    "print(std.items())"
   ]
  },
  {
   "cell_type": "code",
   "execution_count": null,
   "id": "9baf99f3",
   "metadata": {},
   "outputs": [
    {
     "name": "stdout",
     "output_type": "stream",
     "text": [
      "Name : ['Adnan', 'Vijay', 'Sulaiman', 'Malik', 'Rahul', 'Puru', 'Radha', 'Radha', 'Radha'] Course : ['B.tech', 'M.tech', 'MCA', 'B.A', 'M.A', 'BCA', 20, 'home science', 'home science'] Age : ['22', '23', '25', '22', '29', '21', 20] Gender : ['male', 'male', 'male', 'male', 'male', 'male', 'Female', 'Female'] "
     ]
    }
   ],
   "source": [
    "for i,n in std.items():\n",
    "    print(f\"{i} : {n}\", end= \" \")"
   ]
  },
  {
   "cell_type": "code",
   "execution_count": null,
   "id": "a72f95d6",
   "metadata": {},
   "outputs": [
    {
     "name": "stdout",
     "output_type": "stream",
     "text": [
      "{'emp001': {'name': 'Alice', 'Age': 30, 'Department': 'HR'}, 'emp002': {'Name': 'Bob', 'Age': 32, 'Department': 'IT'}, 'emp003': {'name': 'Charlie', 'Age': 35, 'Department': 'Finance'}}\n"
     ]
    }
   ],
   "source": [
    "# nested Dictionary\n",
    "company = {\n",
    "    \"emp001\" : {\"name\": \"Alice\", \"Age\":30, \"Department\" : \"HR\"},\n",
    "    \"emp002\" : {\"Name\": \"Bob\", \"Age\" : 32, \"Department\": \"IT\"},\n",
    "    \"emp003\" : {\"name\": \"Charlie\", \"Age\": 35, \"Department\": \"Finance\"},\n",
    "}\n",
    "print(company)"
   ]
  },
  {
   "cell_type": "code",
   "execution_count": null,
   "id": "9a170168",
   "metadata": {},
   "outputs": [],
   "source": [
    "from pprint import pprint"
   ]
  },
  {
   "cell_type": "code",
   "execution_count": null,
   "id": "aba18175",
   "metadata": {},
   "outputs": [
    {
     "name": "stdout",
     "output_type": "stream",
     "text": [
      "{'emp001': {'Age': 30, 'Department': 'HR', 'name': 'Alice'},\n",
      " 'emp002': {'Age': 32, 'Department': 'IT', 'Name': 'Bob'},\n",
      " 'emp003': {'Age': 35, 'Department': 'Finance', 'name': 'Charlie'}}\n"
     ]
    }
   ],
   "source": [
    "pprint(company)"
   ]
  },
  {
   "cell_type": "code",
   "execution_count": null,
   "id": "668985d9",
   "metadata": {},
   "outputs": [
    {
     "data": {
      "text/plain": [
       "'Finance'"
      ]
     },
     "execution_count": 55,
     "metadata": {},
     "output_type": "execute_result"
    }
   ],
   "source": [
    "company[\"emp003\"][\"Department\"]"
   ]
  },
  {
   "cell_type": "code",
   "execution_count": null,
   "id": "30f2d5b3",
   "metadata": {},
   "outputs": [],
   "source": [
    "# calculate the average temperature of lucknow"
   ]
  },
  {
   "cell_type": "code",
   "execution_count": 18,
   "id": "aa687c2a",
   "metadata": {},
   "outputs": [
    {
     "name": "stdout",
     "output_type": "stream",
     "text": [
      "31.0\n"
     ]
    }
   ],
   "source": [
    "min_temp = int(input(\"Enter min tempretature: \"))\n",
    "max_temp = int(input(\"Enter max temperature: \"))\n",
    "ave_temp = (min_temp+max_temp)/2\n",
    "print(ave_temp)"
   ]
  }
 ],
 "metadata": {
  "kernelspec": {
   "display_name": "base",
   "language": "python",
   "name": "python3"
  },
  "language_info": {
   "codemirror_mode": {
    "name": "ipython",
    "version": 3
   },
   "file_extension": ".py",
   "mimetype": "text/x-python",
   "name": "python",
   "nbconvert_exporter": "python",
   "pygments_lexer": "ipython3",
   "version": "3.13.2"
  }
 },
 "nbformat": 4,
 "nbformat_minor": 5
}
