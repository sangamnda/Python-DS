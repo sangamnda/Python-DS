{
 "cells": [
  {
   "cell_type": "code",
   "execution_count": null,
   "id": "1134d147",
   "metadata": {},
   "outputs": [
    {
     "name": "stdout",
     "output_type": "stream",
     "text": [
      "a\n"
     ]
    }
   ],
   "source": [
    "# indexing\n",
    "stri1 = \"my name is  ulaiman Sayeed\"\n",
    "print(stri1[4])"
   ]
  },
  {
   "cell_type": "code",
   "execution_count": 8,
   "id": "9063e13e",
   "metadata": {},
   "outputs": [
    {
     "name": "stdout",
     "output_type": "stream",
     "text": [
      "8\n"
     ]
    }
   ],
   "source": [
    "print(stri1.index(\"i\"))"
   ]
  },
  {
   "cell_type": "code",
   "execution_count": 9,
   "id": "c64968ed",
   "metadata": {},
   "outputs": [
    {
     "name": "stdout",
     "output_type": "stream",
     "text": [
      "11\n"
     ]
    }
   ],
   "source": [
    "print(stri1.index(\"S\"))"
   ]
  },
  {
   "cell_type": "code",
   "execution_count": null,
   "id": "8e58ed21",
   "metadata": {},
   "outputs": [
    {
     "name": "stdout",
     "output_type": "stream",
     "text": [
      "ame i\n"
     ]
    }
   ],
   "source": [
    "# slicing\n",
    "print(stri1[4:9])"
   ]
  },
  {
   "cell_type": "code",
   "execution_count": 3,
   "id": "07fdc0ae",
   "metadata": {},
   "outputs": [
    {
     "name": "stdout",
     "output_type": "stream",
     "text": [
      " aei\n"
     ]
    }
   ],
   "source": [
    "# slicing with gap\n",
    "print(stri1[2:10:2])"
   ]
  },
  {
   "cell_type": "code",
   "execution_count": 4,
   "id": "7c1452e2",
   "metadata": {},
   "outputs": [
    {
     "name": "stdout",
     "output_type": "stream",
     "text": [
      "m\n",
      "y\n",
      " \n",
      "n\n",
      "a\n",
      "m\n",
      "e\n",
      " \n",
      "i\n",
      "s\n",
      " \n",
      "S\n",
      "u\n",
      "l\n",
      "a\n",
      "i\n",
      "m\n",
      "a\n",
      "n\n",
      " \n",
      "S\n",
      "a\n",
      "y\n",
      "e\n",
      "e\n",
      "d\n"
     ]
    }
   ],
   "source": [
    "# loops\n",
    "for i in stri1:\n",
    "    print(i)"
   ]
  },
  {
   "cell_type": "code",
   "execution_count": 5,
   "id": "3d4ae0e9",
   "metadata": {},
   "outputs": [
    {
     "name": "stdout",
     "output_type": "stream",
     "text": [
      "m y   n a m e   i s   S u l a i m a n   S a y e e d "
     ]
    }
   ],
   "source": [
    "for i in stri1:\n",
    "    print(i, end= \" \")"
   ]
  },
  {
   "cell_type": "code",
   "execution_count": null,
   "id": "5964f8ca",
   "metadata": {},
   "outputs": [],
   "source": []
  }
 ],
 "metadata": {
  "kernelspec": {
   "display_name": "base",
   "language": "python",
   "name": "python3"
  },
  "language_info": {
   "codemirror_mode": {
    "name": "ipython",
    "version": 3
   },
   "file_extension": ".py",
   "mimetype": "text/x-python",
   "name": "python",
   "nbconvert_exporter": "python",
   "pygments_lexer": "ipython3",
   "version": "3.13.2"
  }
 },
 "nbformat": 4,
 "nbformat_minor": 5
}
