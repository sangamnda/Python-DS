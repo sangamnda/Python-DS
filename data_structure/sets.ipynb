{
 "cells": [
  {
   "cell_type": "code",
   "execution_count": 9,
   "id": "48d3792a",
   "metadata": {},
   "outputs": [
    {
     "name": "stdout",
     "output_type": "stream",
     "text": [
      "{'custured appale', 1, 34, 'cherry', 'grapes', 'mango', 61, 'banana', 27, 'litchi', 'pineapple'}\n"
     ]
    }
   ],
   "source": [
    "# create a set and run the loop and slicing\n",
    "\n",
    "set1 = {\"mango\", \"banana\", \"pineapple\", 1, 34, 61, \"cherry\", \"custured appale\", \"litchi\", \"grapes\", \"mango\", \"cherry\", 34, 27, 61}\n",
    "print(set1)"
   ]
  },
  {
   "cell_type": "code",
   "execution_count": 2,
   "id": "e17f7194",
   "metadata": {},
   "outputs": [
    {
     "name": "stdout",
     "output_type": "stream",
     "text": [
      "11\n"
     ]
    }
   ],
   "source": [
    "print(len(set1))"
   ]
  },
  {
   "cell_type": "code",
   "execution_count": null,
   "id": "13484f65",
   "metadata": {},
   "outputs": [
    {
     "name": "stdout",
     "output_type": "stream",
     "text": [
      "custured appale\n",
      "1\n",
      "34\n",
      "cherry\n",
      "grapes\n",
      "mango\n",
      "pineapple\n",
      "banana\n",
      "27\n",
      "litchi\n",
      "61\n"
     ]
    }
   ],
   "source": [
    "# loop on set\n",
    "for i in set1:\n",
    "    print(i)"
   ]
  },
  {
   "cell_type": "code",
   "execution_count": null,
   "id": "40f51902",
   "metadata": {},
   "outputs": [
    {
     "ename": "TypeError",
     "evalue": "'set' object is not subscriptable",
     "output_type": "error",
     "traceback": [
      "\u001b[31m---------------------------------------------------------------------------\u001b[39m",
      "\u001b[31mTypeError\u001b[39m                                 Traceback (most recent call last)",
      "\u001b[36mCell\u001b[39m\u001b[36m \u001b[39m\u001b[32mIn[10]\u001b[39m\u001b[32m, line 3\u001b[39m\n\u001b[32m      1\u001b[39m \u001b[38;5;66;03m# slicing on set\u001b[39;00m\n\u001b[32m----> \u001b[39m\u001b[32m3\u001b[39m \u001b[38;5;28mprint\u001b[39m(\u001b[43mset1\u001b[49m\u001b[43m[\u001b[49m\u001b[32;43m4\u001b[39;49m\u001b[43m]\u001b[49m)\n",
      "\u001b[31mTypeError\u001b[39m: 'set' object is not subscriptable"
     ]
    }
   ],
   "source": [
    "# slicing on set\n",
    "\n",
    "print(set1[4]) # indexing and slicing is not supported in set as it shuffles every time"
   ]
  },
  {
   "cell_type": "code",
   "execution_count": null,
   "id": "bfb82368",
   "metadata": {},
   "outputs": [
    {
     "ename": "TypeError",
     "evalue": "'set' object is not subscriptable",
     "output_type": "error",
     "traceback": [
      "\u001b[31m---------------------------------------------------------------------------\u001b[39m",
      "\u001b[31mTypeError\u001b[39m                                 Traceback (most recent call last)",
      "\u001b[36mCell\u001b[39m\u001b[36m \u001b[39m\u001b[32mIn[11]\u001b[39m\u001b[32m, line 1\u001b[39m\n\u001b[32m----> \u001b[39m\u001b[32m1\u001b[39m \u001b[38;5;28mprint\u001b[39m(\u001b[43mset1\u001b[49m\u001b[43m[\u001b[49m\u001b[32;43m1\u001b[39;49m\u001b[43m:\u001b[49m\u001b[32;43m6\u001b[39;49m\u001b[43m]\u001b[49m)\n",
      "\u001b[31mTypeError\u001b[39m: 'set' object is not subscriptable"
     ]
    }
   ],
   "source": [
    "print(set1[1:6]) # indexing and slicing is not supported in set as it shuffles every time"
   ]
  },
  {
   "cell_type": "code",
   "execution_count": 2,
   "id": "e532687d",
   "metadata": {},
   "outputs": [
    {
     "name": "stdout",
     "output_type": "stream",
     "text": [
      "{'swiggy', 'ganes', 'ajio', 'blinkit', 'youtube', 'whatsapp', 'amazon', 'gmail', 'myntra', 'irctc', 'chrome', 'play store', 'calendar', 'calculator', 'zomato', 'maps', 'flipkart'}\n"
     ]
    }
   ],
   "source": [
    "# convert data type into set\n",
    "\n",
    "list1 = [\"play store\", \"youtube\", \"whatsapp\", \"swiggy\", \"zomato\", \"maps\", \"gmail\", \"chrome\", \"calculator\", \"calendar\", \"ganes\", \"irctc\", \"amazon\", \"flipkart\", \"ajio\",\"myntra\", \"blinkit\"]\n",
    "list2 = set([\"play store\", \"youtube\", \"whatsapp\", \"swiggy\", \"zomato\", \"maps\", \"gmail\", \"chrome\", \"calculator\", \"calendar\", \"ganes\", \"irctc\", \"amazon\", \"flipkart\", \"ajio\",\"myntra\", \"blinkit\"])\n",
    "print(list2)"
   ]
  },
  {
   "cell_type": "code",
   "execution_count": null,
   "id": "acf1c9d5",
   "metadata": {},
   "outputs": [
    {
     "name": "stdout",
     "output_type": "stream",
     "text": [
      "set()\n"
     ]
    }
   ],
   "source": [
    "# adding data in set\n",
    "data = set()\n",
    "print(data)"
   ]
  },
  {
   "cell_type": "code",
   "execution_count": 4,
   "id": "a7b25579",
   "metadata": {},
   "outputs": [
    {
     "name": "stdout",
     "output_type": "stream",
     "text": [
      "{65, 99, 74, 12, 21, 54, 23, 26, 92}\n",
      "9\n"
     ]
    }
   ],
   "source": [
    "data.add(23)\n",
    "data.add(12)\n",
    "data.add(54)\n",
    "data.add(26)\n",
    "data.add(92)\n",
    "data.add(65)\n",
    "data.add(74)\n",
    "data.add(21)\n",
    "data.add(99)\n",
    "print(data)\n",
    "print(len(data))\n"
   ]
  },
  {
   "cell_type": "code",
   "execution_count": 5,
   "id": "e16d22a2",
   "metadata": {},
   "outputs": [
    {
     "data": {
      "text/plain": [
       "65"
      ]
     },
     "execution_count": 5,
     "metadata": {},
     "output_type": "execute_result"
    }
   ],
   "source": [
    "data.pop()"
   ]
  },
  {
   "cell_type": "code",
   "execution_count": 7,
   "id": "172a358b",
   "metadata": {},
   "outputs": [
    {
     "name": "stdout",
     "output_type": "stream",
     "text": [
      "{99, 74, 12, 21, 23, 26, 92}\n"
     ]
    }
   ],
   "source": [
    "# discard method to delete pricise element\n",
    "\n",
    "data.discard(54)\n",
    "print(data)"
   ]
  },
  {
   "cell_type": "code",
   "execution_count": 8,
   "id": "41926e47",
   "metadata": {},
   "outputs": [
    {
     "ename": "KeyError",
     "evalue": "96",
     "output_type": "error",
     "traceback": [
      "\u001b[31m---------------------------------------------------------------------------\u001b[39m",
      "\u001b[31mKeyError\u001b[39m                                  Traceback (most recent call last)",
      "\u001b[36mCell\u001b[39m\u001b[36m \u001b[39m\u001b[32mIn[8]\u001b[39m\u001b[32m, line 1\u001b[39m\n\u001b[32m----> \u001b[39m\u001b[32m1\u001b[39m \u001b[43mdata\u001b[49m\u001b[43m.\u001b[49m\u001b[43mremove\u001b[49m\u001b[43m(\u001b[49m\u001b[32;43m96\u001b[39;49m\u001b[43m)\u001b[49m\n\u001b[32m      2\u001b[39m \u001b[38;5;28mprint\u001b[39m(data)\n",
      "\u001b[31mKeyError\u001b[39m: 96"
     ]
    }
   ],
   "source": [
    "data.remove(96)\n",
    "print(data)"
   ]
  },
  {
   "cell_type": "code",
   "execution_count": 9,
   "id": "86acc8be",
   "metadata": {},
   "outputs": [
    {
     "name": "stdout",
     "output_type": "stream",
     "text": [
      "{99, 74, 12, 21, 23, 26, 92}\n"
     ]
    }
   ],
   "source": [
    "data.discard(86)\n",
    "print(data)"
   ]
  },
  {
   "cell_type": "code",
   "execution_count": 10,
   "id": "783f995f",
   "metadata": {},
   "outputs": [
    {
     "name": "stdout",
     "output_type": "stream",
     "text": [
      "set()\n"
     ]
    }
   ],
   "source": [
    "data.clear()\n",
    "print(data)"
   ]
  }
 ],
 "metadata": {
  "kernelspec": {
   "display_name": "base",
   "language": "python",
   "name": "python3"
  },
  "language_info": {
   "codemirror_mode": {
    "name": "ipython",
    "version": 3
   },
   "file_extension": ".py",
   "mimetype": "text/x-python",
   "name": "python",
   "nbconvert_exporter": "python",
   "pygments_lexer": "ipython3",
   "version": "3.13.2"
  }
 },
 "nbformat": 4,
 "nbformat_minor": 5
}
