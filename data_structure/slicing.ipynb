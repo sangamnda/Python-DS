{
 "cells": [
  {
   "cell_type": "markdown",
   "id": "a3e8dfa8",
   "metadata": {},
   "source": [
    "## Slicing"
   ]
  },
  {
   "cell_type": "code",
   "execution_count": 2,
   "id": "0e8b7213",
   "metadata": {},
   "outputs": [
    {
     "name": "stdout",
     "output_type": "stream",
     "text": [
      "['whatsapp', 'swiggy', 'zomato', 'maps']\n"
     ]
    }
   ],
   "source": [
    "apps = [\"play store\", \"youtube\", \"whatsapp\", \"swiggy\", \"zomato\", \"maps\", \"gmail\", \"chrome\", \"calculator\", \"calendar\", \"ganes\", \"irctc\", \"amazon\", \"flipkart\", \"ajio\",\"myntra\", \"blinkit\"]\n",
    "print(apps[2:6])"
   ]
  },
  {
   "cell_type": "code",
   "execution_count": 3,
   "id": "d5cff5b8",
   "metadata": {},
   "outputs": [
    {
     "name": "stdout",
     "output_type": "stream",
     "text": [
      "swiggy\n"
     ]
    }
   ],
   "source": [
    "apps = [\"play store\", \"youtube\", \"whatsapp\", \"swiggy\", \"zomato\", \"maps\", \"gmail\", \"chrome\", \"calculator\", \"calendar\", \"ganes\", \"irctc\", \"amazon\", \"flipkart\", \"ajio\",\"myntra\", \"blinkit\"]\n",
    "print(apps[3])"
   ]
  },
  {
   "cell_type": "code",
   "execution_count": 8,
   "id": "63c65cd8",
   "metadata": {},
   "outputs": [
    {
     "name": "stdout",
     "output_type": "stream",
     "text": [
      "['calculator', 'calendar', 'ganes', 'irctc', 'amazon', 'flipkart', 'ajio', 'myntra', 'blinkit']\n"
     ]
    }
   ],
   "source": [
    "apps = [\"play store\", \"youtube\", \"whatsapp\", \"swiggy\", \"zomato\", \"maps\", \"gmail\", \"chrome\", \"calculator\", \"calendar\", \"ganes\", \"irctc\", \"amazon\", \"flipkart\", \"ajio\",\"myntra\", \"blinkit\"]\n",
    "print(apps[-9:])"
   ]
  },
  {
   "cell_type": "code",
   "execution_count": 10,
   "id": "1701df60",
   "metadata": {},
   "outputs": [
    {
     "name": "stdout",
     "output_type": "stream",
     "text": [
      "play store, youtube, whatsapp, swiggy, zomato, maps, gmail, chrome, calculator, calendar, ganes, irctc, amazon, flipkart, ajio, myntra, blinkit, "
     ]
    }
   ],
   "source": [
    "apps = [\"play store\", \"youtube\", \"whatsapp\", \"swiggy\", \"zomato\", \"maps\", \"gmail\", \"chrome\", \"calculator\", \"calendar\", \"ganes\", \"irctc\", \"amazon\", \"flipkart\", \"ajio\",\"myntra\", \"blinkit\"]\n",
    "for i in apps:\n",
    "    print(i, end= \", \")"
   ]
  }
 ],
 "metadata": {
  "kernelspec": {
   "display_name": "base",
   "language": "python",
   "name": "python3"
  },
  "language_info": {
   "codemirror_mode": {
    "name": "ipython",
    "version": 3
   },
   "file_extension": ".py",
   "mimetype": "text/x-python",
   "name": "python",
   "nbconvert_exporter": "python",
   "pygments_lexer": "ipython3",
   "version": "3.13.2"
  }
 },
 "nbformat": 4,
 "nbformat_minor": 5
}
