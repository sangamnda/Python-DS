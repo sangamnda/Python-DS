{
 "cells": [
  {
   "cell_type": "code",
   "execution_count": 3,
   "id": "80ed10e8",
   "metadata": {},
   "outputs": [
    {
     "name": "stdout",
     "output_type": "stream",
     "text": [
      "Even number\n"
     ]
    }
   ],
   "source": [
    "num = int(input(\"Enter the number: \"))\n",
    "if num % 2 == 0:\n",
    "    print(\"Even number\")\n",
    "else:\n",
    "    print(\"Odd number\")"
   ]
  },
  {
   "cell_type": "code",
   "execution_count": 5,
   "id": "d7bf8ca6",
   "metadata": {},
   "outputs": [
    {
     "name": "stdout",
     "output_type": "stream",
     "text": [
      "both sides are equal\n"
     ]
    }
   ],
   "source": [
    "side1 = int(input(\"Enter the first side of rectangle: \"))\n",
    "side2 = int(input(\"enter the second side of rectangle: \"))\n",
    "if side1 == side2:\n",
    "    print(\"both sides are equal\")\n",
    "else:\n",
    "    print(\"Not equal\")"
   ]
  },
  {
   "cell_type": "code",
   "execution_count": 7,
   "id": "52c793d8",
   "metadata": {},
   "outputs": [
    {
     "name": "stdout",
     "output_type": "stream",
     "text": [
      "character is vowel\n"
     ]
    }
   ],
   "source": [
    "# check whether a character entered by user is vowel or not\n",
    "charac = input(\"Please enter a character: \")\n",
    "if charac == \"a\":\n",
    "    print(\"character is vowel\")\n",
    "elif charac == \"e\":\n",
    "    print(\"character is vowel\")\n",
    "elif charac == \"i\":\n",
    "    print(\"character is vowel\")\n",
    "elif charac == \"o\":\n",
    "    print(\"character is vowel\")\n",
    "elif charac == \"u\":\n",
    "    print(\"character is vowel\")\n",
    "else:\n",
    "    print(\"not vowel\")"
   ]
  },
  {
   "cell_type": "code",
   "execution_count": 6,
   "id": "16e89ae8",
   "metadata": {},
   "outputs": [
    {
     "name": "stdout",
     "output_type": "stream",
     "text": [
      "2500.0\n",
      "57500.0\n"
     ]
    }
   ],
   "source": [
    "# calculate the gross salary of  an employee where the basic salary is 50000, DA is 5% of basic salary and HRA is 10% of basic salary\n",
    "bs = 50000\n",
    "da = (50000*5)/100\n",
    "print(da)\n",
    "hra = (50000*10)/100\n",
    "gs = bs+da+hra\n",
    "print(gs)"
   ]
  }
 ],
 "metadata": {
  "kernelspec": {
   "display_name": "base",
   "language": "python",
   "name": "python3"
  },
  "language_info": {
   "codemirror_mode": {
    "name": "ipython",
    "version": 3
   },
   "file_extension": ".py",
   "mimetype": "text/x-python",
   "name": "python",
   "nbconvert_exporter": "python",
   "pygments_lexer": "ipython3",
   "version": "3.13.2"
  }
 },
 "nbformat": 4,
 "nbformat_minor": 5
}
