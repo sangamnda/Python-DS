{
 "cells": [
  {
   "cell_type": "markdown",
   "id": "a7f9c3ef",
   "metadata": {},
   "source": [
    "## multiline variables"
   ]
  },
  {
   "cell_type": "code",
   "execution_count": 3,
   "id": "ebc27e9e",
   "metadata": {},
   "outputs": [
    {
     "name": "stdout",
     "output_type": "stream",
     "text": [
      "johny johny yes paa\n",
      "eating sugar no papa\n",
      "telling lie no papa\n",
      "open mouth hahahha\n"
     ]
    }
   ],
   "source": [
    "poem = \"\"\"johny johny yes paa\n",
    "eating sugar no papa\n",
    "telling lie no papa\n",
    "open mouth hahahha\"\"\"\n",
    "print(poem)"
   ]
  },
  {
   "cell_type": "markdown",
   "id": "d1afa8bf",
   "metadata": {},
   "source": [
    "## list"
   ]
  },
  {
   "cell_type": "code",
   "execution_count": 4,
   "id": "da5d1b13",
   "metadata": {},
   "outputs": [
    {
     "name": "stdout",
     "output_type": "stream",
     "text": [
      "['apple', 'mango', 'papaya', 'banana', 'cherry']\n"
     ]
    }
   ],
   "source": [
    "fruits = [\"apple\", \"mango\", \"papaya\", \"banana\", \"cherry\" ]\n",
    "print(fruits)"
   ]
  },
  {
   "cell_type": "markdown",
   "id": "7bdbf9bd",
   "metadata": {},
   "source": [
    "## Set"
   ]
  },
  {
   "cell_type": "code",
   "execution_count": 5,
   "id": "d44dfa88",
   "metadata": {},
   "outputs": [
    {
     "name": "stdout",
     "output_type": "stream",
     "text": [
      "{'cherry', 'mango', 'papaya', 'apple', 'banana'}\n"
     ]
    }
   ],
   "source": [
    "fruits = {\"apple\", \"mango\", \"papaya\", \"banana\", \"apple\", \"banana\", \"cherry\"}\n",
    "print(fruits)"
   ]
  },
  {
   "cell_type": "markdown",
   "id": "d7c66148",
   "metadata": {},
   "source": [
    "## Dictionary"
   ]
  },
  {
   "cell_type": "code",
   "execution_count": 7,
   "id": "12183933",
   "metadata": {},
   "outputs": [
    {
     "name": "stdout",
     "output_type": "stream",
     "text": [
      "{'Brand': ['Ford', 'BMW', 'Fiat'], 'Model': ['Mustang', 'X5', '500'], 'Year': [1964, 2018, 2019]}\n"
     ]
    }
   ],
   "source": [
    "car_info = {\n",
    "    \"Brand\": [\"Ford\", \"BMW\", \"Fiat\"],\n",
    "    \"Model\": [\"Mustang\", \"X5\", \"500\"],\n",
    "    \"Year\": [1964, 2018, 2019],\n",
    "}\n",
    "print(car_info)"
   ]
  }
 ],
 "metadata": {
  "kernelspec": {
   "display_name": "base",
   "language": "python",
   "name": "python3"
  },
  "language_info": {
   "codemirror_mode": {
    "name": "ipython",
    "version": 3
   },
   "file_extension": ".py",
   "mimetype": "text/x-python",
   "name": "python",
   "nbconvert_exporter": "python",
   "pygments_lexer": "ipython3",
   "version": "3.13.2"
  }
 },
 "nbformat": 4,
 "nbformat_minor": 5
}
