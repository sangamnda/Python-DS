{
 "cells": [
  {
   "cell_type": "markdown",
   "id": "1b9cfd68",
   "metadata": {},
   "source": [
    "# Take input from user a, b and c and check the greatest number"
   ]
  },
  {
   "cell_type": "code",
   "execution_count": 4,
   "id": "d0f510f4",
   "metadata": {},
   "outputs": [
    {
     "name": "stdout",
     "output_type": "stream",
     "text": [
      "the number a 3 is the greatest.\n"
     ]
    }
   ],
   "source": [
    "a = int(input(\"please enter a number 1: \"))\n",
    "b = int(input(\"please enter a number 2: \"))\n",
    "c = int(input(\"please enter a number 3: \"))\n",
    "if a > b and a > c:\n",
    "    print(f\"the number a {a} is the greatest.\")\n",
    "elif b > a and b > c:\n",
    "    print(f\"the number b {b} is the greatest.\")\n",
    "else:\n",
    "    print(f\"the number c {c} is the greatest.\")"
   ]
  }
 ],
 "metadata": {
  "kernelspec": {
   "display_name": "base",
   "language": "python",
   "name": "python3"
  },
  "language_info": {
   "codemirror_mode": {
    "name": "ipython",
    "version": 3
   },
   "file_extension": ".py",
   "mimetype": "text/x-python",
   "name": "python",
   "nbconvert_exporter": "python",
   "pygments_lexer": "ipython3",
   "version": "3.13.2"
  }
 },
 "nbformat": 4,
 "nbformat_minor": 5
}
