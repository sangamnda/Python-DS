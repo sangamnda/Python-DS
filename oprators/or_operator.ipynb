{
 "cells": [
  {
   "cell_type": "markdown",
   "id": "a2a0ed27",
   "metadata": {},
   "source": [
    "# check or condition"
   ]
  },
  {
   "cell_type": "markdown",
   "id": "37c96582",
   "metadata": {},
   "source": [
    "## ## WAP if an employee is eligible for bonus. if emplyee's production and quality are above 80%. if he meets the production 95% and above.if quality is 90% and above."
   ]
  },
  {
   "cell_type": "code",
   "execution_count": 12,
   "id": "5c4adf64",
   "metadata": {},
   "outputs": [
    {
     "name": "stdout",
     "output_type": "stream",
     "text": [
      "You are not eligible for bonus.\n"
     ]
    }
   ],
   "source": [
    "prod_qual = int(input(\"Please enter your production and quality percentage: \"))\n",
    "prod = int(input(\"Plesae enter your production percentage: \"))\n",
    "qual = int(input(\"Please enter your quality percentage: \"))\n",
    "if prod_qual >= 80 or prod >= 95 or qual >= 90:\n",
    "    print(\"You are eligble for bonus.\")\n",
    "else:\n",
    "    print(\"You are not eligible for bonus.\")"
   ]
  }
 ],
 "metadata": {
  "kernelspec": {
   "display_name": "base",
   "language": "python",
   "name": "python3"
  },
  "language_info": {
   "codemirror_mode": {
    "name": "ipython",
    "version": 3
   },
   "file_extension": ".py",
   "mimetype": "text/x-python",
   "name": "python",
   "nbconvert_exporter": "python",
   "pygments_lexer": "ipython3",
   "version": "3.13.2"
  }
 },
 "nbformat": 4,
 "nbformat_minor": 5
}
