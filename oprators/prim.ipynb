{
 "cells": [
  {
   "cell_type": "code",
   "execution_count": null,
   "id": "8d87fc0e",
   "metadata": {},
   "outputs": [],
   "source": [
    "num = int(input(\"Enter a number:\"))\n",
    "if num > 1 :\n",
    "    for i in range ( 2 ,  int (num ** 0.5) + 1):\n",
    "        if num % i == 0:\n",
    "            print(\"prim number\")\n",
    "            break\n",
    "        else:\n",
    "            print(\"no prim number\")\n",
    "print(\"not a prim\")\n",
    "    "
   ]
  }
 ],
 "metadata": {
  "kernelspec": {
   "display_name": "base",
   "language": "python",
   "name": "python3"
  },
  "language_info": {
   "codemirror_mode": {
    "name": "ipython",
    "version": 3
   },
   "file_extension": ".py",
   "mimetype": "text/x-python",
   "name": "python",
   "nbconvert_exporter": "python",
   "pygments_lexer": "ipython3",
   "version": "3.13.2"
  }
 },
 "nbformat": 4,
 "nbformat_minor": 5
}
