{
 "cells": [
  {
   "cell_type": "code",
   "execution_count": 1,
   "id": "e146ed74",
   "metadata": {},
   "outputs": [
    {
     "name": "stdout",
     "output_type": "stream",
     "text": [
      "6\n"
     ]
    }
   ],
   "source": [
    "num1 = 20\n",
    "num2 = 3\n",
    "result = num1 // num2\n",
    "print(result)"
   ]
  },
  {
   "cell_type": "markdown",
   "id": "6d3f4226",
   "metadata": {},
   "source": [
    "# check the floor division number"
   ]
  },
  {
   "cell_type": "code",
   "execution_count": 3,
   "id": "36b12767",
   "metadata": {},
   "outputs": [
    {
     "name": "stdout",
     "output_type": "stream",
     "text": [
      "4\n"
     ]
    }
   ],
   "source": [
    "num1 = int(input(\"Please enter number 1:\"))\n",
    "num2 = int(input(\"Please enter number 2: \"))\n",
    "result = num1 // num2\n",
    "print(result)"
   ]
  }
 ],
 "metadata": {
  "kernelspec": {
   "display_name": "base",
   "language": "python",
   "name": "python3"
  },
  "language_info": {
   "codemirror_mode": {
    "name": "ipython",
    "version": 3
   },
   "file_extension": ".py",
   "mimetype": "text/x-python",
   "name": "python",
   "nbconvert_exporter": "python",
   "pygments_lexer": "ipython3",
   "version": "3.13.2"
  }
 },
 "nbformat": 4,
 "nbformat_minor": 5
}
