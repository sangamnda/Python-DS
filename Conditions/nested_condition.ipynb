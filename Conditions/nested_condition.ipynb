{
 "cells": [
  {
   "cell_type": "markdown",
   "id": "5340d3ef",
   "metadata": {},
   "source": [
    "## Nested Condition\n"
   ]
  },
  {
   "cell_type": "code",
   "execution_count": 3,
   "id": "f7768233",
   "metadata": {},
   "outputs": [
    {
     "name": "stdout",
     "output_type": "stream",
     "text": [
      "n1 is largest 33\n"
     ]
    }
   ],
   "source": [
    "n1 = int(input(\"Enter the number 1\"))\n",
    "n2 = int(input(\"Enter the number 2\"))\n",
    "n3 = int(input(\"Enter the number 3\"))\n",
    "if n1 > n2:\n",
    "    if n1 > n3:\n",
    "        print(\"n1 is largest\", n1)\n",
    "    else:\n",
    "        print(\"n3 is largest\", n3)\n",
    "else:\n",
    "    if n2 > n3:\n",
    "        print(\"n2 is largest\", n2)\n",
    "    else:\n",
    "        print(\"n3 is largest\", n3)"
   ]
  }
 ],
 "metadata": {
  "kernelspec": {
   "display_name": "base",
   "language": "python",
   "name": "python3"
  },
  "language_info": {
   "codemirror_mode": {
    "name": "ipython",
    "version": 3
   },
   "file_extension": ".py",
   "mimetype": "text/x-python",
   "name": "python",
   "nbconvert_exporter": "python",
   "pygments_lexer": "ipython3",
   "version": "3.13.2"
  }
 },
 "nbformat": 4,
 "nbformat_minor": 5
}
