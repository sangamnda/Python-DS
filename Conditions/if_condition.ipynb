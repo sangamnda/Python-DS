{
 "cells": [
  {
   "cell_type": "code",
   "execution_count": 3,
   "id": "a0bcbf17",
   "metadata": {},
   "outputs": [
    {
     "name": "stdout",
     "output_type": "stream",
     "text": [
      "Block starts here\n",
      "Even number\n"
     ]
    }
   ],
   "source": [
    "x = 28\n",
    "if x % 2 == 0:\n",
    "    print(\"Block starts here\")\n",
    "    print(\"Even number\")\n",
    "else:\n",
    "    print(\"Odd number\")"
   ]
  },
  {
   "cell_type": "markdown",
   "id": "7f89eed1",
   "metadata": {},
   "source": [
    "## Quiz"
   ]
  },
  {
   "cell_type": "code",
   "execution_count": 5,
   "id": "5aaf99b7",
   "metadata": {},
   "outputs": [
    {
     "name": "stdout",
     "output_type": "stream",
     "text": [
      "You are eligible for DL\n"
     ]
    }
   ],
   "source": [
    "# WAP to check if a person is eligible for DL\n",
    "age = int(input(\"Please enter your age: \"))\n",
    "if age >= 18:\n",
    "    print(\"You are eligible for DL\")\n",
    "else:\n",
    "    print(\"You are not eligible for DL\")"
   ]
  },
  {
   "cell_type": "markdown",
   "id": "ce372499",
   "metadata": {},
   "source": [
    "## Elif"
   ]
  },
  {
   "cell_type": "code",
   "execution_count": 8,
   "id": "70e50e44",
   "metadata": {},
   "outputs": [
    {
     "name": "stdout",
     "output_type": "stream",
     "text": [
      "The number is zero\n"
     ]
    }
   ],
   "source": [
    "# WAP to check if number is positive, negative or Zero\n",
    "num = int(input(\"Enter a number: \"))\n",
    "if num > 0:\n",
    "    print(f\"The number {num} is positive\")\n",
    "elif num < 0:\n",
    "    print(f\"The number {num} is negative\")\n",
    "else:\n",
    "    print(\"The number is zero\")"
   ]
  },
  {
   "cell_type": "code",
   "execution_count": 12,
   "id": "3e3ccb27",
   "metadata": {},
   "outputs": [
    {
     "name": "stdout",
     "output_type": "stream",
     "text": [
      "The number 34 is greater than 22\n"
     ]
    }
   ],
   "source": [
    "# WAP to find the greater of two numbers\n",
    "num1 = int(input(\"Enter the first number: \"))\n",
    "num2 = int(input(\"Enter the second number: \"))\n",
    "if num1 > num2:\n",
    "    print(f\"The number {num1} is greater than {num2}\")\n",
    "elif num1 < num2:\n",
    "    print(f\"The number {num2} is greater than {num1}\")\n",
    "else:\n",
    "    print(\"The numbers are equal\")"
   ]
  }
 ],
 "metadata": {
  "kernelspec": {
   "display_name": "base",
   "language": "python",
   "name": "python3"
  },
  "language_info": {
   "codemirror_mode": {
    "name": "ipython",
    "version": 3
   },
   "file_extension": ".py",
   "mimetype": "text/x-python",
   "name": "python",
   "nbconvert_exporter": "python",
   "pygments_lexer": "ipython3",
   "version": "3.13.2"
  }
 },
 "nbformat": 4,
 "nbformat_minor": 5
}
