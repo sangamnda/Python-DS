{
 "cells": [
  {
   "cell_type": "code",
   "execution_count": 9,
   "id": "7eae6046",
   "metadata": {},
   "outputs": [],
   "source": [
    "# Type of function\n",
    "# 1. built-in function\n",
    "# 2. user-defined function\n",
    "# user defined function has multiple types\n",
    "# i) parameterrized function\n",
    "# ii) non-parameterrized function\n",
    "# iii) return function\n",
    "# iv) non-return function\n",
    "# v) default parameterized function\n",
    "# vi) Lambda function"
   ]
  },
  {
   "cell_type": "markdown",
   "id": "60d96384",
   "metadata": {},
   "source": [
    "Type of function\n",
    "## 1. built-in function\n",
    "## 2. user-defined function\n",
    "### user defined function has multiple types\n",
    "- i) parameterrized function\n",
    "- ii) non-parameterrized function\n",
    "- iii) return function\n",
    "- iv) non-return function\n",
    "- v) default parameterized function\n",
    "- vi) Lambda function"
   ]
  },
  {
   "cell_type": "code",
   "execution_count": 20,
   "id": "2204d25d",
   "metadata": {},
   "outputs": [
    {
     "name": "stdout",
     "output_type": "stream",
     "text": [
      "Hello, good morning!\n",
      "How are you?\n",
      "I am good, thank you\n"
     ]
    }
   ],
   "source": [
    "# non parameterized function\n",
    "def greet(): #function initialization\n",
    "    print(\"Hello, good morning!\")\n",
    "    print(\"How are you?\")\n",
    "    print(\"I am good, thank you\")\n",
    "greet()"
   ]
  },
  {
   "cell_type": "code",
   "execution_count": 18,
   "id": "82213575",
   "metadata": {},
   "outputs": [
    {
     "name": "stdout",
     "output_type": "stream",
     "text": [
      "Hello, good morning!\n",
      "How are you?\n",
      "I am good, thank you\n"
     ]
    }
   ],
   "source": [
    "# function calling\n",
    "greet()"
   ]
  },
  {
   "cell_type": "code",
   "execution_count": 19,
   "id": "cd2c3299",
   "metadata": {},
   "outputs": [
    {
     "name": "stdout",
     "output_type": "stream",
     "text": [
      "Hello, good morning!\n",
      "How are you?\n",
      "I am good, thank you\n"
     ]
    }
   ],
   "source": [
    "greet()"
   ]
  },
  {
   "cell_type": "code",
   "execution_count": null,
   "id": "c71218e0",
   "metadata": {},
   "outputs": [
    {
     "name": "stdout",
     "output_type": "stream",
     "text": [
      "9\n"
     ]
    }
   ],
   "source": [
    "# parameterized function\n",
    "def add(a,b,c): # in parentheses we put parameters like (a,b,c)\n",
    "    print(a+b+c)\n",
    "add(2,3,4)    # while calling the function when we put the key in parentheses, called it arguments like (2,3,4)"
   ]
  },
  {
   "cell_type": "code",
   "execution_count": null,
   "id": "5da100bb",
   "metadata": {},
   "outputs": [
    {
     "name": "stdout",
     "output_type": "stream",
     "text": [
      "4.0\n"
     ]
    }
   ],
   "source": [
    "# average of 5 numbers\n",
    "def avr(a,b,c,d,e):\n",
    "    print((a+b+c+d+e)/5)\n",
    "    \n",
    "avr(2,3,4,5,6)"
   ]
  },
  {
   "cell_type": "code",
   "execution_count": null,
   "id": "694c82bb",
   "metadata": {},
   "outputs": [
    {
     "name": "stdout",
     "output_type": "stream",
     "text": [
      "Odd number\n"
     ]
    }
   ],
   "source": [
    "# check the number even or odd with arguments\n",
    "def even(n):\n",
    "    if n % 2 == 0:\n",
    "        print(\"Even number\")\n",
    "    else:\n",
    "        print(\"Odd number\")\n",
    "        \n",
    "even(13)"
   ]
  },
  {
   "cell_type": "code",
   "execution_count": 37,
   "id": "98298723",
   "metadata": {},
   "outputs": [
    {
     "name": "stdout",
     "output_type": "stream",
     "text": [
      "the number 22 is Even number\n"
     ]
    }
   ],
   "source": [
    "# check the number even or odd with input method\n",
    "def even(n):\n",
    "    if n % 2 == 0:\n",
    "        print(f\"the number {num1} is Even number\")\n",
    "    else:\n",
    "        print(f\"the number {num1} is odd number\")\n",
    "num1 = int(input(\"Enter a number: \"))\n",
    "        \n",
    "even(num1)"
   ]
  },
  {
   "cell_type": "code",
   "execution_count": 38,
   "id": "462673c2",
   "metadata": {},
   "outputs": [
    {
     "name": "stdout",
     "output_type": "stream",
     "text": [
      "22\n"
     ]
    }
   ],
   "source": [
    "print(num1)"
   ]
  },
  {
   "cell_type": "code",
   "execution_count": 41,
   "id": "43691f11",
   "metadata": {},
   "outputs": [
    {
     "name": "stdout",
     "output_type": "stream",
     "text": [
      "75\n"
     ]
    }
   ],
   "source": [
    "# Return function\n",
    "def mul(a,b):\n",
    "    return a*b\n",
    "c = mul(5,15)\n",
    "print(c)"
   ]
  },
  {
   "cell_type": "code",
   "execution_count": 43,
   "id": "a506243f",
   "metadata": {},
   "outputs": [
    {
     "data": {
      "text/plain": [
       "12"
      ]
     },
     "execution_count": 43,
     "metadata": {},
     "output_type": "execute_result"
    }
   ],
   "source": [
    "# Return function\n",
    "def mul(a,b):\n",
    "    return a*b\n",
    "c = mul(5,15)\n",
    "mul(2,6)"
   ]
  },
  {
   "cell_type": "code",
   "execution_count": null,
   "id": "58be50a9",
   "metadata": {},
   "outputs": [
    {
     "data": {
      "text/plain": [
       "'I love America'"
      ]
     },
     "execution_count": 46,
     "metadata": {},
     "output_type": "execute_result"
    }
   ],
   "source": [
    "# default parameterized function\n",
    "def my_country(name = \"India\"):\n",
    "    return f\"I love {name}\"\n",
    "my_country(\"America\")\n",
    "my_country(\"Dubai\")\n",
    "my_country()\n"
   ]
  },
  {
   "cell_type": "code",
   "execution_count": 47,
   "id": "a264230e",
   "metadata": {},
   "outputs": [
    {
     "name": "stdout",
     "output_type": "stream",
     "text": [
      "I love America\n",
      "I love Dubai\n",
      "I love India\n"
     ]
    }
   ],
   "source": [
    "# default parameterized function\n",
    "def my_country(name = \"India\"):\n",
    "    return f\"I love {name}\"\n",
    "print(my_country(\"America\"))\n",
    "print(my_country(\"Dubai\"))\n",
    "print(my_country())"
   ]
  }
 ],
 "metadata": {
  "kernelspec": {
   "display_name": "base",
   "language": "python",
   "name": "python3"
  },
  "language_info": {
   "codemirror_mode": {
    "name": "ipython",
    "version": 3
   },
   "file_extension": ".py",
   "mimetype": "text/x-python",
   "name": "python",
   "nbconvert_exporter": "python",
   "pygments_lexer": "ipython3",
   "version": "3.13.2"
  }
 },
 "nbformat": 4,
 "nbformat_minor": 5
}
