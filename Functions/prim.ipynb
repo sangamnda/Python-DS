{
 "cells": [
  {
   "cell_type": "code",
   "execution_count": 1,
   "id": "8d87fc0e",
   "metadata": {},
   "outputs": [
    {
     "name": "stdout",
     "output_type": "stream",
     "text": [
      "no prim number\n",
      "no prim number\n",
      "no prim number\n",
      "no prim number\n",
      "no prim number\n",
      "no prim number\n",
      "no prim number\n",
      "not a prim\n"
     ]
    }
   ],
   "source": [
    "num = int(input(\"Enter a number:\"))\n",
    "if num > 1 :\n",
    "    for i in range ( 2 ,  int (num ** 0.5) + 1):\n",
    "        if num % i == 0:\n",
    "            print(\"prim number\")\n",
    "            break\n",
    "        else:\n",
    "            print(\"no prim number\")\n",
    "print(\"not a prim\")\n",
    "    "
   ]
  },
  {
   "cell_type": "code",
   "execution_count": 13,
   "id": "f8ca20a4",
   "metadata": {},
   "outputs": [
    {
     "name": "stdout",
     "output_type": "stream",
     "text": [
      "25 is not a prim number\n"
     ]
    }
   ],
   "source": [
    "num = int(input(\"Please enter a number: \"))\n",
    "count = 0\n",
    "for i in range(1, num+1):\n",
    "    if num % i ==0:\n",
    "        count = count+1\n",
    "if count == 2:\n",
    "    print(num, \"is prim number\")\n",
    "else:\n",
    "    print(num, 'is not a prim number')"
   ]
  }
 ],
 "metadata": {
  "kernelspec": {
   "display_name": "base",
   "language": "python",
   "name": "python3"
  },
  "language_info": {
   "codemirror_mode": {
    "name": "ipython",
    "version": 3
   },
   "file_extension": ".py",
   "mimetype": "text/x-python",
   "name": "python",
   "nbconvert_exporter": "python",
   "pygments_lexer": "ipython3",
   "version": "3.13.2"
  }
 },
 "nbformat": 4,
 "nbformat_minor": 5
}
