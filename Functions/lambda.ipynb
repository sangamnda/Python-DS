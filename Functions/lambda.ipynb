{
 "cells": [
  {
   "cell_type": "markdown",
   "id": "412287ee",
   "metadata": {},
   "source": [
    "# Lambda function "
   ]
  },
  {
   "cell_type": "code",
   "execution_count": null,
   "id": "5a838a9c",
   "metadata": {},
   "outputs": [
    {
     "name": "stdout",
     "output_type": "stream",
     "text": [
      "Even\n"
     ]
    }
   ],
   "source": [
    "# Lambda function \n",
    "# lambda function is used to write a function in a sigle line\n",
    "even = lambda x: \"Even\" if x % 2 == 0 else \"Odd\"\n",
    "\n",
    "print(even(2))"
   ]
  },
  {
   "cell_type": "code",
   "execution_count": 2,
   "id": "bc1536c3",
   "metadata": {},
   "outputs": [
    {
     "name": "stdout",
     "output_type": "stream",
     "text": [
      "Odd\n"
     ]
    }
   ],
   "source": [
    "print(even(5))"
   ]
  },
  {
   "cell_type": "code",
   "execution_count": 6,
   "id": "1fac4208",
   "metadata": {},
   "outputs": [
    {
     "name": "stdout",
     "output_type": "stream",
     "text": [
      "Odd\n"
     ]
    }
   ],
   "source": [
    "print(even(311))"
   ]
  },
  {
   "cell_type": "code",
   "execution_count": 7,
   "id": "b28a242d",
   "metadata": {},
   "outputs": [
    {
     "name": "stdout",
     "output_type": "stream",
     "text": [
      "9\n"
     ]
    }
   ],
   "source": [
    "sq = lambda x : x**2\n",
    "print(sq(3))"
   ]
  },
  {
   "cell_type": "code",
   "execution_count": 8,
   "id": "756cce68",
   "metadata": {},
   "outputs": [
    {
     "name": "stdout",
     "output_type": "stream",
     "text": [
      "25\n"
     ]
    }
   ],
   "source": [
    "sq = lambda x : x**2\n",
    "print(sq(5))"
   ]
  },
  {
   "cell_type": "code",
   "execution_count": 13,
   "id": "b5e89cad",
   "metadata": {},
   "outputs": [
    {
     "name": "stdout",
     "output_type": "stream",
     "text": [
      "no equilateral\n"
     ]
    }
   ],
   "source": [
    "triangle = lambda a,b,c : \"Equilateral\" if a == b and a == c and b == c else \"no equilateral\"\n",
    "print(triangle(2,3,4))"
   ]
  },
  {
   "cell_type": "code",
   "execution_count": 15,
   "id": "bbb9467d",
   "metadata": {},
   "outputs": [
    {
     "name": "stdout",
     "output_type": "stream",
     "text": [
      "Equilateral\n"
     ]
    }
   ],
   "source": [
    "triangle = lambda a,b,c : \"Equilateral\" if a == b and a == c and b == c else \"no equilateral\"\n",
    "print(triangle(2,2,2))"
   ]
  }
 ],
 "metadata": {
  "kernelspec": {
   "display_name": "base",
   "language": "python",
   "name": "python3"
  },
  "language_info": {
   "codemirror_mode": {
    "name": "ipython",
    "version": 3
   },
   "file_extension": ".py",
   "mimetype": "text/x-python",
   "name": "python",
   "nbconvert_exporter": "python",
   "pygments_lexer": "ipython3",
   "version": "3.13.2"
  }
 },
 "nbformat": 4,
 "nbformat_minor": 5
}
