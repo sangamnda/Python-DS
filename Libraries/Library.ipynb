{
 "cells": [
  {
   "cell_type": "markdown",
   "id": "30180194",
   "metadata": {},
   "source": [
    "- ### Libraries"
   ]
  },
  {
   "cell_type": "code",
   "execution_count": 1,
   "id": "9100e1bd",
   "metadata": {},
   "outputs": [],
   "source": [
    "import math"
   ]
  },
  {
   "cell_type": "code",
   "execution_count": 14,
   "id": "f5f74118",
   "metadata": {},
   "outputs": [
    {
     "name": "stdout",
     "output_type": "stream",
     "text": [
      "120\n",
      "4.0\n",
      "12\n",
      "2\n",
      "3.141592653589793\n",
      "0.0\n",
      "0.8414709848078965\n",
      "1.0\n"
     ]
    }
   ],
   "source": [
    "print(math.factorial(5))\n",
    "print(math.sqrt(16))\n",
    "print(math.lcm(2,4,3))\n",
    "print(math.gcd(2,4))\n",
    "print(math.pi)\n",
    "print(math.log(1))\n",
    "print(math.sin(1))\n",
    "print(math.copysign(1,5))"
   ]
  },
  {
   "cell_type": "code",
   "execution_count": 15,
   "id": "499e9264",
   "metadata": {},
   "outputs": [],
   "source": [
    "from random import random, randint, choice, shuffle"
   ]
  },
  {
   "cell_type": "code",
   "execution_count": 78,
   "id": "6250a9c7",
   "metadata": {},
   "outputs": [
    {
     "name": "stdout",
     "output_type": "stream",
     "text": [
      "get a random number between 0 and 1: 0.8524567300874124\n",
      "get a random number between 1 and 100: 76\n",
      "select a random element from a list: 4\n",
      "shuffled list ['jack', 'jhon', 'jill', 'jane']\n"
     ]
    }
   ],
   "source": [
    "print(\"get a random number between 0 and 1:\", random())\n",
    "print(\"get a random number between 1 and 100:\", randint(1,100))\n",
    "print(\"select a random element from a list:\", choice([1,2,3,4,5,6,7,8,9,10]))\n",
    "names = [\"jhon\", \"jane\", \"jack\", \"jill\"]\n",
    "shuffle(names)\n",
    "print(\"shuffled list\", names)"
   ]
  },
  {
   "cell_type": "code",
   "execution_count": 84,
   "id": "b613aa88",
   "metadata": {},
   "outputs": [],
   "source": [
    "# datetime Library\n",
    "from datetime import datetime as dt"
   ]
  },
  {
   "cell_type": "code",
   "execution_count": 86,
   "id": "0e5be208",
   "metadata": {},
   "outputs": [
    {
     "name": "stdout",
     "output_type": "stream",
     "text": [
      "current date and time:  2025-07-03 10:48:11.730555\n",
      "current date: 2025-07-03\n",
      "current time: 10:48:11.731990\n"
     ]
    }
   ],
   "source": [
    "print('current date and time: ', dt.now())\n",
    "print(\"current date:\", dt.now().date())\n",
    "print(\"current time:\", dt.now().time())"
   ]
  },
  {
   "cell_type": "code",
   "execution_count": 88,
   "id": "3cce60ee",
   "metadata": {},
   "outputs": [
    {
     "name": "stdout",
     "output_type": "stream",
     "text": [
      "curret year:  2025\n",
      "current month  7\n",
      "curent date:  2025-07-03\n",
      "current hour:  10\n",
      "current minute:  52\n",
      "current second:  44\n",
      "current week:  3\n"
     ]
    }
   ],
   "source": [
    "print(\"curret year: \",dt.now().year)\n",
    "print(\"current month \", dt.now().month)\n",
    "print(\"curent date: \", dt.now().date())\n",
    "print(\"current hour: \", dt.now().hour)\n",
    "print(\"current minute: \", dt.now().minute)\n",
    "print(\"current second: \", dt.now().second)\n",
    "print(\"current week: \", dt.now().weekday())"
   ]
  },
  {
   "cell_type": "code",
   "execution_count": 89,
   "id": "62aceef7",
   "metadata": {},
   "outputs": [
    {
     "name": "stdout",
     "output_type": "stream",
     "text": [
      "03 / 07 / 25\n"
     ]
    }
   ],
   "source": [
    "date = dt.strftime(dt.now(), '%d / %m / %y')\n",
    "print(date)"
   ]
  },
  {
   "cell_type": "code",
   "execution_count": 92,
   "id": "d9b46e72",
   "metadata": {},
   "outputs": [
    {
     "name": "stdout",
     "output_type": "stream",
     "text": [
      "10 : 59 : 54\n"
     ]
    }
   ],
   "source": [
    "time = dt.strftime(dt.now(), '%H : %M : %S')\n",
    "print(time)"
   ]
  }
 ],
 "metadata": {
  "kernelspec": {
   "display_name": "base",
   "language": "python",
   "name": "python3"
  },
  "language_info": {
   "codemirror_mode": {
    "name": "ipython",
    "version": 3
   },
   "file_extension": ".py",
   "mimetype": "text/x-python",
   "name": "python",
   "nbconvert_exporter": "python",
   "pygments_lexer": "ipython3",
   "version": "3.13.2"
  }
 },
 "nbformat": 4,
 "nbformat_minor": 5
}
